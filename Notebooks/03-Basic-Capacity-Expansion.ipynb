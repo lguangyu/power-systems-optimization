{
 "cells": [
  {
   "cell_type": "markdown",
   "metadata": {},
   "source": [
    "# A Basic Capacity Expansion Model\n",
    "\n",
    "_**[Power Systems Optimization](https://github.com/east-winds/power-systems-optimization)**_\n",
    "\n",
    "_by Jesse D. Jenkins and Michael R. Davidson (last updated: September 21, 2020)_\n",
    "\n",
    "This notebook presents a basic electricity generation capacity expansion model: the task of minimizing the cost of fixed and variable costs across a fleet of generators to meet anticipated future electricity demand. \n",
    "\n",
    "We first present a basic optimization formulation of this optimal thermal generator capacity expansion problem, assuming a \"greenfield\" setting with no existing generating capacity. We also show how to create this model with Julia + JuMP.\n",
    "\n",
    "Next, we discuss the impact of variable renewable energy sources (wind, solar) and present a slightly modified formulation that co-optimizes thermal and renewable capacities. \n",
    "\n",
    "Finally, we will note how this problem generalizes to a \"brownfield\" expansion problem including existing generators, with optimal retirement decisions included in the problem.\n",
    "\n",
    "Note these capacity expansion problems will be basic/simplified formulations, ignoring inter-temporal operating constraints (e.g. ramp limits), energy storage, network constraints and geospatial tradeoffs, unit commitment decisions for thermal generators, and operating reserves. We will define a more complex model integrating these factors in a future notebook after familiarizing ourselves with operational models (economic dispatch, unit commitment, and optimal power flow)."
   ]
  },
  {
   "cell_type": "markdown",
   "metadata": {},
   "source": [
    "## 1. Optimal thermal generator expansion problem\n",
    "\n",
    "<img src=\"img/thermal.png\" style=\"width: 450px; height: auto\" align=\"left\">"
   ]
  },
  {
   "cell_type": "markdown",
   "metadata": {},
   "source": [
    "Assume a utility can build any of the following four thermal generation types: geothermal, coal, natural gas combined cycle gas turbine (CCGT), and natural gas combustion turbine (CT). The utility must decide on the mix of thermal generators to meet forecasted demand in a future planning year across each hour of the year. \n",
    "\n",
    "Assume for simplicity that there are no existing generators -- that is, this is a \"greenfield\" expansion problem where all generators are newly built. \n",
    "\n",
    "Finally, assume that any involuntary curtailment of demand caused by shortfalls in supply is penalized at the cost of non-served energy. (Note that by penalizing the opportunity cost of demand curtailment, this cost minimization problem is equivalent to a social welfare maximization problem, assuming inelastic demand). "
   ]
  },
  {
   "cell_type": "markdown",
   "metadata": {},
   "source": [
    "### Problem formulation\n",
    "\n",
    "This yields the following **optimization problem**:\n",
    "\n",
    "$\\begin{align}\n",
    "\\min &\\sum_{g \\in G} \\left(FixedCost_g \\times CAP_g +  \\sum_{h \\in H} VarCost_g \\times GEN_{g,h}\\right)& \\\\\n",
    "&\\quad\\quad+ \\sum_{h \\in H} NSECost \\times NSE_h &\\\\[6pt]\n",
    "&\\text{s.t.}&\\\\[6pt]\n",
    "& \\sum_{g \\in G} GEN_{g,h} + NSE_h = Demand_h & \\forall \\quad h \\in H\\\\[6pt]\n",
    "& GEN_{g,h} \\leq CAP_g & \\forall \\quad g \\in G \\text{ & } h \\in H\\\\[6pt]\n",
    "& CAP_{g} \\geq 0 & \\forall \\quad g \\in G\\\\[6pt]\n",
    "& GEN_{g,h} \\geq 0 & \\forall \\quad g \\in G \\text{ & } h \\in H\\\\\n",
    "& NSE_{h} \\geq 0 & \\forall \\quad h \\in H\n",
    "\\end{align}$\n",
    "\n",
    "And where:\n",
    "\n",
    "$\\begin{align}\n",
    "&FixedCost_g = Capex_g \\times CRF_g + FixedOM_g\\\\[6pt]\n",
    "&CRF_g = \\frac{WACC(1+WACC)^{Life}}{(1+WACC)^{Life}-1} \\\\[6pt]\n",
    "&VarCost_g = VarOM_g + HeatRate_g \\times FuelCost_g\n",
    "\\end{align}$\n",
    "\n",
    "The **decision variables** in the above problem are:\n",
    "- $CAP_{g}$, the capacity (in MW) built for each generation type, $g$; and\n",
    "- $GEN_{g,h}$, the generation (in MWh) produced by each generator, $g$, in each hour, $h$; and\n",
    "- $NSE_h$, the quantity of involuntarily curtailed demand in each hour (in MWh), $h$.\n",
    "\n",
    "Note that if we ignore the discrete nature of large thermal power plant decisions (investment and power plant cycling decisions), we have continous decisions and *a linear programming (LP) problem* with linear objective function and linear constraints. (We'll incorporate discrete decisions in the notebook on Unit Commitment)\n",
    "\n",
    "The **sets** are:\n",
    "- $G$, the set of generators: \\[geo, coal, CCGT, CT\\];\n",
    "- $H$, the set of hours in the year: \\[1:8760\\]\n",
    "\n",
    "The **parameters** are:\n",
    "\n",
    "- $Capex_g$, the capital expenditure to construct the power plant (overnight cost + cost of financing during construction) (\\$/MW); \n",
    "- $CRF_g$,  the annual capital recovery factor or share of $Capex$ recovered in each year to pay off equity and debt (per unit);\n",
    "- $WACC_g$,  the weighted average cost of capital to finance the generator, or the weighted cost of interest on debt and returns to equity investors (\\%); \n",
    "- $Life_g$, the financial asset life of the asset (years); \n",
    "- $FixedOM_g$, the fixed operations and maintenance cost (\\$/MW-year)\n",
    "- $VarOM_g$, the variable operations and maintenance cost (\\$/MWh);\n",
    "- $HeatRate_g$, the rate of fuel consumed per unit of electricity produced (MMBtu/MWh);\n",
    "- $FuelCost_g$, the cost of fuel (\\$/MMBtu)\n",
    "- $NSECost$, the opportunity cost or penalty incurred for involuntary non-served energy (\\$/MWh); and\n",
    "- $Demand_h$, is the demand in each hour"
   ]
  },
  {
   "cell_type": "markdown",
   "metadata": {},
   "source": [
    "## Building the problem with Julia + JuMP\n",
    "\n",
    "Now let's define this LP problem with the help of Julia + JuMP.\n",
    "\n",
    "**1. Load packages**\n",
    "\n",
    "First, let's load the Julia packages we'll need to work with here."
   ]
  },
  {
   "cell_type": "code",
   "execution_count": null,
   "metadata": {},
   "outputs": [],
   "source": [
    "# Uncomment this line if you need to install these packages:\n",
    "# import Pkg; Pkg.add(\"JuMP\"); Pkg.add(\"Clp\"); Pkg.add(\"DataFrames\"); Pkg.add(\"CSV\"); Pkg.add(\"Statistics\")\n",
    "using JuMP, Clp\n",
    "using Plots; plotly()\n",
    "using DataFrames, CSV, Statistics\n",
    "ENV[\"COLUMNS\"]=120 # Set so all columns of DataFrames and Matrices are displayed"
   ]
  },
  {
   "cell_type": "markdown",
   "metadata": {},
   "source": [
    "**1. Load parameters (data)**\n",
    "\n",
    "Then we'll load our parameters, starting with the cost parameters for the candidate generators.\n",
    "\n",
    "The following generator data are illustrative and approximate, but most are based on the National Renewable Energy Laboratory's [Annual Technology Baseline 2020](https://atb.nrel.gov/electricity/2020/), except for natural gas CT capex, which is based on Lazard's [Levelized Cost of Electricity Version 13.0](https://www.lazard.com/media/451086/lazards-levelized-cost-of-energy-version-130-vf.pdf). "
   ]
  },
  {
   "cell_type": "code",
   "execution_count": null,
   "metadata": {},
   "outputs": [],
   "source": [
    "generators = DataFrame(CSV.File(\"expansion_data/generators_for_expansion.csv\"))"
   ]
  },
  {
   "cell_type": "markdown",
   "metadata": {},
   "source": [
    "Note we've got wind and solar costs in here, but we'll get to these variable renewable resources in the next section.\n",
    "\n",
    "Next we'll load the hourly demand data. This demand time series is the actual reported demand (from 2012) for San Diego Gas and Electric (via the [PowerGenome](https://github.com/gschivley/PowerGenome) data platform as reported to FERC Form 714)."
   ]
  },
  {
   "cell_type": "code",
   "execution_count": null,
   "metadata": {},
   "outputs": [],
   "source": [
    "demand = DataFrame(CSV.File(\"expansion_data/demand_for_expansion.csv\"))"
   ]
  },
  {
   "cell_type": "markdown",
   "metadata": {},
   "source": [
    "Let's plot the demand to get a feel for what we're working with here..."
   ]
  },
  {
   "cell_type": "code",
   "execution_count": null,
   "metadata": {},
   "outputs": [],
   "source": [
    "plot(demand.Demand, ylims=(0,5000), label=\"\")\n",
    "title!(\"Hourly Demand\")\n",
    "xaxis!(\"Hour\")\n",
    "yaxis!(\"MWh\")"
   ]
  },
  {
   "cell_type": "markdown",
   "metadata": {},
   "source": [
    "(Note that this time series starts at 0\\:00-0\\:59 [UTC](https://en.wikipedia.org/wiki/Coordinated_Universal_Time) time, or 5pm Pacific time)\n",
    "\n",
    "You can see some of the seasonal trends here in San Diego electricity demand with some large peaks in demand in the summer months driven by air conditioning needs. This profile also includes the impact of about 600 MW of distributed solar PV installed behind the meter, which reduces the net load for the bulk generators we are planning here.\n",
    "\n",
    "The chronological demand profile is a little hard to look at though, with all the daily variation, and since we're not considering intertemporal constraints (yet), let's resort the demand from highest to lowest hour of demand across the year, what is known as a **\"load duration curve.\"**"
   ]
  },
  {
   "cell_type": "code",
   "execution_count": null,
   "metadata": {},
   "outputs": [],
   "source": [
    "plot(sort(demand.Demand, rev=true), ylims=(0,5000), label=\"\")\n",
    "title!(\"Hourly Demand\")\n",
    "xaxis!(\"Hour\")\n",
    "yaxis!(\"MWh\")"
   ]
  },
  {
   "cell_type": "markdown",
   "metadata": {},
   "source": [
    "Examining the load duration curve, we can more easily see the wide range of variation in hourly demand across the year..."
   ]
  },
  {
   "cell_type": "code",
   "execution_count": null,
   "metadata": {},
   "outputs": [],
   "source": [
    "print(string(\"Minimum demand: \",minimum(demand.Demand),\"\\n\"))\n",
    "print(string(\"Maximum demand: \",maximum(demand.Demand),\"\\n\"))\n",
    "print(string(\"Median demand: \",median(demand.Demand),\"\\n\"))\n",
    "print(string(\"Mean demand: \",round(mean(demand.Demand),digits=0),\"\\n\"))"
   ]
  },
  {
   "cell_type": "markdown",
   "metadata": {},
   "source": [
    "Finally, we will set the penalty for non-served energy or $NSECost$ to \\$9,000/MWh"
   ]
  },
  {
   "cell_type": "code",
   "execution_count": null,
   "metadata": {},
   "outputs": [],
   "source": [
    "NSECost = 9000"
   ]
  },
  {
   "cell_type": "markdown",
   "metadata": {},
   "source": [
    "**3. Define sets**\n",
    "\n",
    "Now let's define the sets we are going to use to index our variables:\n",
    "\n",
    "- $G$, the set of generators: \\[geo, coal, CCGT, CT\\];\n",
    "- $H$, the set of hours in the year: \\[1:8760\\]"
   ]
  },
  {
   "cell_type": "code",
   "execution_count": null,
   "metadata": {},
   "outputs": [],
   "source": [
    "# The set of generators from the generators DataFrame\n",
    "G = generators.G[1:(size(generators,1)-2)]  # note we truncate wind and solar for now\n",
    "# The set of hours in the demand DataFrame\n",
    "H = demand.Hour"
   ]
  },
  {
   "cell_type": "markdown",
   "metadata": {},
   "source": [
    "**4. Define the model and specify solver**"
   ]
  },
  {
   "cell_type": "code",
   "execution_count": null,
   "metadata": {},
   "outputs": [],
   "source": [
    "Expansion_Model = Model(Clp.Optimizer)"
   ]
  },
  {
   "cell_type": "markdown",
   "metadata": {},
   "source": [
    "**5. Define variables**\n",
    "\n",
    "Next, define decision variables: \n",
    "\n",
    "- $CAP_{g} \\geq 0$, the capacity (in MW) built for each generation type, $g$; and\n",
    "- $GEN_{g,h} \\geq 0$, the generation (in MWh) produced by each generator, $g$, in each hour, $h$; and\n",
    "- $NSE_h \\geq 0$, the quantity of involuntarily curtailed demand in each hour, $h$."
   ]
  },
  {
   "cell_type": "code",
   "execution_count": null,
   "metadata": {},
   "outputs": [],
   "source": [
    "@variables(Expansion_Model, begin\n",
    "        CAP[g in G] >=0          # Generating capacity built (MW)\n",
    "        GEN[g in G, h in H] >= 0 # Generation in each hour (MWh)\n",
    "        NSE[h in H] >= 0         # Non-served energy in each hour (MWh)\n",
    "end)"
   ]
  },
  {
   "cell_type": "markdown",
   "metadata": {},
   "source": [
    "**6. Define constraints**\n",
    "\n",
    "Set up our constraints:\n",
    "\n",
    "$\\begin{align}\n",
    "& \\sum_{g \\in G} GEN_{g,h} + NSE_h = Demand_h & \\forall \\quad h \\in H\\\\[6pt]\n",
    "& GEN_{g,h} \\leq CAP_g & \\forall \\quad g \\in G \\text{ & } h \\in H\\\\[6pt]\n",
    "\\end{align}$"
   ]
  },
  {
   "cell_type": "code",
   "execution_count": null,
   "metadata": {},
   "outputs": [],
   "source": [
    "@constraints(Expansion_Model, begin\n",
    "    cDemandBalance[h in H], sum(GEN[g,h] for g in G) + NSE[h] == demand.Demand[h]\n",
    "    cCapacity[g in G, h in H], GEN[g,h] <= CAP[g]\n",
    "end)"
   ]
  },
  {
   "cell_type": "markdown",
   "metadata": {},
   "source": [
    "**7. Define objective function**\n",
    "\n",
    "$\\begin{align}\n",
    "\\min &\\sum_{g \\in G} \\left(FixedCost_g \\times CAP_g +  \\sum_{h \\in H} VarCost_g \\times GEN_{g,h}\\right)& \\\\\n",
    "&\\quad\\quad+ \\sum_{h \\in H} NSECost \\times NSE_h &\\\\[6pt]\n",
    "\\end{align}$"
   ]
  },
  {
   "cell_type": "code",
   "execution_count": null,
   "metadata": {},
   "outputs": [],
   "source": [
    "# The output of this cell is a formula same as the one above, with all nested summations fully expanded,\n",
    "# which is (MASSIVELY) LONG and makes my jupyter hang.\n",
    "# To see the output, remove the semicolon \";\" at the end of this code block; Make a backup if you want to\n",
    "# do so, else it'll be very difficult to recover.\n",
    "@objective(Expansion_Model, Min,\n",
    "    sum(generators[generators.G.==g,:FixedCost][1]*CAP[g] + \n",
    "        sum(generators[generators.G.==g,:VarCost][1]*GEN[g,h] for h in H)\n",
    "    for g in G) + \n",
    "    sum(NSECost*NSE[h] for h in H) \n",
    ");"
   ]
  },
  {
   "cell_type": "markdown",
   "metadata": {},
   "source": [
    "**8. Solve the model and extract results**"
   ]
  },
  {
   "cell_type": "code",
   "execution_count": null,
   "metadata": {},
   "outputs": [],
   "source": [
    "optimize!(Expansion_Model)"
   ]
  },
  {
   "cell_type": "code",
   "execution_count": null,
   "metadata": {},
   "outputs": [],
   "source": [
    "# Record generation capacity and energy results\n",
    "generation = zeros(size(G,1))\n",
    "for i in 1:size(G,1) \n",
    "    generation[i] = sum(value.(GEN)[G[i],:].data) \n",
    "end\n",
    "MWh_share = generation./sum(demand.Demand).*100\n",
    "cap_share = value.(CAP).data./maximum(demand.Demand).*100\n",
    "results = DataFrame(\n",
    "    Resource = G, \n",
    "    MW = value.(CAP).data,\n",
    "    Percent_MW = cap_share,\n",
    "    GWh = generation/1000,\n",
    "    Percent_GWh = MWh_share\n",
    ")\n",
    "# Calculate how much non-served energy there was and add to results\n",
    "  # The maximum MW of non-served energy is the difference \n",
    "  # between peak demand and total installed generation capacity\n",
    "NSE_MW = maximum(value.(NSE).data) \n",
    "  # The total MWh of non-served energy is the difference between\n",
    "  # total demand and total generation\n",
    "NSE_MWh = sum(value.(NSE).data)\n",
    "  # Add or \"push\" a new row of data to the end of the results DataFrame\n",
    "push!(results, [\"NSE\" NSE_MW NSE_MW/maximum(demand.Demand)*100 NSE_MWh/1000 NSE_MWh/sum(demand.Demand)*100])"
   ]
  },
  {
   "cell_type": "markdown",
   "metadata": {},
   "source": [
    "You can see that given the cost assumptions provided, the least-cost capacity mix includes exclusively gas-fired generators: a mix of CCGTs which operate at higher utilization rates given their comparatively higher fixed costs and lower variable costs and CTs which run infrequently (to meet peaks in demand) given their lower fixed costs and higher fuel costs.\n",
    "\n",
    "CCGTs make up 65% of capacity and CTs 32%, while CCGTs produce nearly 97% of annual generation and CTs provide only about 3%. A maximum of 3% of demand is curtailed in any hour (184 MW) and no more than 0.002% of demand across the year is unserved (99.998% reliability). \n",
    "\n",
    "What might happen if you changed the fuel costs? Or reduced the penalty for non-served energy? Questions to consider for Homework 2..."
   ]
  },
  {
   "cell_type": "markdown",
   "metadata": {},
   "source": [
    "## 2. Co-optimizing thermal generators and variable renewables\n",
    "\n",
    "<img src=\"img/renewables.png\" style=\"width: 450px; height: auto\" align=\"left\">"
   ]
  },
  {
   "cell_type": "markdown",
   "metadata": {},
   "source": [
    "Now let's add some wind and solar to the mix. \n",
    "\n",
    "We already loaded the cost data for wind and solar previously."
   ]
  },
  {
   "cell_type": "code",
   "execution_count": null,
   "metadata": {},
   "outputs": [],
   "source": [
    "generators"
   ]
  },
  {
   "cell_type": "markdown",
   "metadata": {},
   "source": [
    "We will also need time series data containing the hourly *capacity factor* or maximum availability of wind and solar per unit of capacity deployed. This reflects the weather-dependent variation in potential wind and solar output across each hour of the year."
   ]
  },
  {
   "cell_type": "code",
   "execution_count": null,
   "metadata": {},
   "outputs": [],
   "source": [
    "variability = DataFrame(CSV.File(\"expansion_data/wind_solar_for_expansion.csv\"))"
   ]
  },
  {
   "cell_type": "markdown",
   "metadata": {},
   "source": [
    "Let's plot the first month of data (January), to get a feel for the patterns of variability..."
   ]
  },
  {
   "cell_type": "code",
   "execution_count": null,
   "metadata": {},
   "outputs": [],
   "source": [
    "plot(variability.Wind[1:(24*31)], ylims=(0,1), label=\"Wind\")\n",
    "plot!(variability.Solar[1:(24*31)], ylims=(0,1), label=\"Solar\")\n",
    "title!(\"Capacity Factors for Wind & Solar - January\")\n",
    "xaxis!(\"Hour\")\n",
    "yaxis!(\"Capacity Factor\")"
   ]
  },
  {
   "cell_type": "markdown",
   "metadata": {},
   "source": [
    "And here's what July (the peak month for demand) looks like..."
   ]
  },
  {
   "cell_type": "code",
   "execution_count": null,
   "metadata": {},
   "outputs": [],
   "source": [
    "july1 = 24*(31*3+30*2+28)\n",
    "july31 = 24*(31*4+30*2+28)\n",
    "plot(variability.Wind[july1:july31], ylims=(0,1), label=\"Wind\")\n",
    "plot!(variability.Solar[july1:july31], ylims=(0,1), label=\"Solar\")\n",
    "title!(\"Capacity Factors for Wind & Solar - July\")\n",
    "xaxis!(\"Hour\")\n",
    "yaxis!(\"Capacity Factor\")"
   ]
  },
  {
   "cell_type": "markdown",
   "metadata": {},
   "source": [
    "Now we have to slightly modify our problem formulation. For variable renewable resources $g \\in RE$, where $RE$ is the subset $\\{Wind, Solar\\} \\subset G$, the maximum possible generation is now time-dependent and equal to $CAP_g \\times cf_{g,h}$ where $cf_{g,h}$ is the capacity factor for resource $g$ in hour $h$. That is, a 100 MW solar farm with an hourly capacity factor of 0.2 (20%) can produce no more than 20 MW in that hour. (We assume these are curtailable, utility-scale wind and solar PV plants that can produce less than this maximum amount of desired).\n",
    "\n",
    "This yields:\n",
    "\n",
    "$\\begin{align}\n",
    "\\min &\\sum_{g \\in G} \\left(FixedCost_g \\times CAP_g +  \\sum_{h \\in H} VarCost_g \\times GEN_{g,h}\\right)& \\\\\n",
    "&\\quad\\quad+ \\sum_{h \\in H} NSECost \\times NSE_h &\\\\[6pt]\n",
    "&\\text{s.t.}&\\\\[6pt]\n",
    "& \\sum_{g \\in G} GEN_{g,h} + NSE_h = Demand_h & \\forall \\quad h \\in H\\\\[6pt]\n",
    "& GEN_{g,h} \\leq CAP_g & \\forall \\quad g \\notin RE \\text{ & } h \\in H\\\\[6pt]\n",
    "& GEN_{g,h} \\leq CAP_g \\times cf_{g,h} & \\forall \\quad g \\in RE \\text{ & } h \\in H\\\\[6pt]\n",
    "& CAP_{g} \\geq 0 & \\forall \\quad h \\in H\\\\[6pt]\n",
    "& GEN_{g,h} \\geq 0 & \\forall \\quad g \\in G \\text{ & } h \\in H\\\\\n",
    "& NSE_{h} \\geq 0 & \\forall \\quad h \\in H\n",
    "\\end{align}$\n",
    "\n",
    "In Homework 2, you can code up this version of the generation expansion problem."
   ]
  },
  {
   "cell_type": "markdown",
   "metadata": {},
   "source": [
    "## 3. Brownfield expansion and retirement decisions\n",
    "\n",
    "<img src=\"img/brownfield.png\" style=\"width: 450px; height: auto\" align=\"left\">"
   ]
  },
  {
   "cell_type": "markdown",
   "metadata": {},
   "source": [
    "The formulation above assumes no existing generating capacity -- a \"greenfield\" expansion problem.\n",
    "\n",
    "But realistic planning problems will begin with today's installed capacity and then consider both what to build *and what to retire* to meet future demand at lowest cost. \n",
    "\n",
    "The capital expenditure to build existing generators is a *sunk cost*, so this should not factor into the economic decision making as to whether to continue operating a power plant. The relevant decisions have to do only with *avoidable costs*, in this case, ongoing fixed operations and maintenance costs (which we will consider inclusive of any capital expenditure to refurbish or replace aging equipment and continue operating). "
   ]
  },
  {
   "cell_type": "markdown",
   "metadata": {},
   "source": [
    "Let's define a formulation for this \"brownfield\" generation expansion problem with existing capacity retirement decisions and new build capacity expansion decisions.\n",
    "\n",
    "First, define a new subset of generators $OLD \\subset G$ that consists of all existing generators, and an existing capacity parameter $ExistingCap_g \\forall g \\in OLD$. \n",
    "\n",
    "For these resources, we don't have a capacity expansion decision ($CAP_g$), but we do have a retirement decision, $RET_g$, which indicates how much capacity is to be retired before the planning year. \n",
    "\n",
    "The $FixedCost_g$ for each existing generator consists only of the ongoing fixed operations and maintenance costs ($FixedOM_g$), with no annuitized investment cost component.\n",
    "\n",
    "For convenience, let's also define a new subset $NEW \\subset G$ that consists of all new build capacity options.\n",
    "\n",
    "The new formulation is as follows:\n",
    "\n",
    "$\\begin{align}\n",
    "\\min &\\sum_{g \\in NEW} FixedCost_g \\times CAP_g + \\sum_{g \\in OLD} FixedCost_g \\times (ExistingCap_g - RET_g)& \\\\\n",
    "&\\quad\\quad+ \\sum_{g\\in G}\\sum_{h \\in H} VarCost_g \\times GEN_{g,h} + \\sum_{h \\in H} NSECost \\times NSE_h &\\\\[6pt]\n",
    "\\end{align}$\n",
    "\n",
    "$\\begin{align}\n",
    "&\\text{s.t.}&\\\\[6pt]\n",
    "&\\text{Demand balance constraint:}&\\\\[6pt]\n",
    "& \\sum_{g \\in G} GEN_{g,h} + NSE_h = Demand_h & \\forall \\quad h \\in H\\\\[6pt]\n",
    "&\\text{Capacity constraint for new build thermal:}&\\\\[6pt]\n",
    "& GEN_{g,h} \\leq CAP_g & \\forall \\quad g \\in NEW \\text{ & } \\notin RE \\text{ & } h \\in H\\\\[6pt]\n",
    "&\\text{Capacity constraint for existing thermal:}&\\\\[6pt]\n",
    "& GEN_{g,h} \\leq ExistingCap_g - RET_g & \\forall \\quad g \\in OLD \\text{ & } \\notin RE \\text{ & } h \\in H\\\\[6pt]\n",
    "&\\text{Capacity constraint for new build RE:}&\\\\[6pt]\n",
    "& GEN_{g,h} \\leq CAP_g \\times cf_g & \\forall \\quad g \\in NEW \\text{ & } \\in RE \\text{ & } h \\in H\\\\[6pt]\n",
    "&\\text{Capacity constraint for existing RE:}&\\\\[6pt]\n",
    "& GEN_{g,h} \\leq (ExistingCap_g - RET_g) \\times cf_g & \\forall \\quad g \\in OLD \\text{ & } \\in RE \\text{ & } h \\in H\\\\[6pt]\n",
    "&\\text{Capacity variable only for new build:}&\\\\[6pt]\n",
    "& CAP_{g} \\geq 0 & \\forall \\quad g \\in NEW\\\\[6pt]\n",
    "&\\text{Retirement variable only for existing:}&\\\\[6pt]\n",
    "& RET_{g} \\geq 0 & \\forall \\quad g \\in OLD\\\\[6pt]\n",
    "&\\text{Generation and NSE variables:}&\\\\[6pt]\n",
    "& GEN_{g,h} \\geq 0 & \\forall \\quad g \\in G \\text{ & } h \\in H\\\\\n",
    "& NSE_{h} \\geq 0 & \\forall \\quad h \\in H\n",
    "\\end{align}$"
   ]
  },
  {
   "cell_type": "markdown",
   "metadata": {},
   "source": [
    "You'll construct this model in Homework 2 as well."
   ]
  }
 ],
 "metadata": {
  "kernelspec": {
   "display_name": "Julia 1.5.3",
   "language": "julia",
   "name": "julia-1.5"
  },
  "language_info": {
   "file_extension": ".jl",
   "mimetype": "application/julia",
   "name": "julia",
   "version": "1.5.3"
  }
 },
 "nbformat": 4,
 "nbformat_minor": 4
}
