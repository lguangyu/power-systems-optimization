{
 "cells": [
  {
   "cell_type": "markdown",
   "metadata": {},
   "source": [
    "# The Anatomy of a Model \n",
    "## An Introduction to JuMP for Algebraic Modeling\n",
    "\n",
    "_**[Power Systems Optimization](https://github.com/east-winds/power-systems-optimization)**_\n",
    "\n",
    "_by Jesse D. Jenkins and Michael R. Davidson (last updated: September 16, 2020)_\n",
    "\n",
    "This notebook will provide a basic introduction to [algebraic modeling](https://en.wikipedia.org/wiki/Algebraic_modeling_language) for [constrained optimization](https://en.wikipedia.org/wiki/Constrained_optimization) problems using the [Julia](https://julialang.org/) language and [JuMP](http://jump.dev/). The notebook will walk through the main components of an optimization model (decision variables, constraints, expressions, sets, objective function), show how to interface with a solver to find solutions to the model, and how to read solutions outputs back into Julia [DataFrames](https://juliadata.github.io/DataFrames.jl/stable/) and/or [write outputs to .csv files](https://juliadata.github.io/CSV.jl/stable/) for post-processing.\n",
    "\n",
    "For additional resources, see the collection of notebooks provided at [JuMPTutorials.jl](https://github.com/jump-dev/JuMPTutorials.jl)."
   ]
  },
  {
   "cell_type": "markdown",
   "metadata": {},
   "source": [
    "<img src=\"img/jump_logo.png\" style=\"width: 450px; height: auto\" align=\"left\">"
   ]
  },
  {
   "cell_type": "markdown",
   "metadata": {},
   "source": [
    "### What is JuMP?\n",
    "\n",
    "[JuMP](http://jump.dev/) (\"Julia for Mathematical Programming\") is an open-source modeling language and supporting packages for mathematical optimization/algebraic programming in the [Julia](https://julialang.org/) high performance scientific programming language. \n",
    "\n",
    "JuMP makes it easy to formulate and solve linear programming, semidefinite programming, integer programming, convex optimization, constrained nonlinear optimization, and related classes of optimization problems, using easy-to-read code with syntax that closely matches the mathematical formulation of optimization problems. \n",
    "\n",
    "These problems can then be solved via a variety of open source or commercial optimization solvers, using Julia packages for interfacing with each solver. Thus, the definition of an algebraic model for a constrained optimization problem in JuMP is independent of the choice of solver. \n",
    "\n",
    "In this way, JuMP is similar to [AMPL](https://en.wikipedia.org/wiki/AMPL), [AIIMS](https://en.wikipedia.org/wiki/AIMMS) or [GAMS](https://en.wikipedia.org/wiki/General_Algebraic_Modeling_System) -- all specialized languages built for algebraic modeling. However, JuMP offers the advantage of being embeded within a fully functioning, high-level programming language (Julia). In this way, it is similar to the [Pyomo](http://www.pyomo.org/) package for Python, but offers the higher computational performance of Julia (and less verbose syntax). (For a brief [comparison between Julia and Python](https://devathon.com/blog/julia-vs-python-which-programming-language-is-better/), see here)."
   ]
  },
  {
   "cell_type": "markdown",
   "metadata": {},
   "source": [
    "### Installing JuMP\n",
    "\n",
    "JuMP is a package for Julia. From Julia, JuMP is installed by using the built-in package manager. [See this guide to installing and setting up Julia and JuMP](http://bit.ly/JuliaSetupGuide) if you've not yet done so. But very briefly, one installs JuMP with the following code:"
   ]
  },
  {
   "cell_type": "code",
   "execution_count": null,
   "metadata": {
    "scrolled": true
   },
   "outputs": [],
   "source": [
    "# Uncomment this line if you don't have JuMP and Clp installed already\n",
    "#import Pkg; Pkg.add(\"JuMP\"); Pkg.add(\"Clp\")"
   ]
  },
  {
   "cell_type": "markdown",
   "metadata": {},
   "source": [
    "### Loading Julia packages\n",
    "\n",
    "You only need to install JuMP and Clp once, but each time you start up Julia, you'll need to load the JuMP, Clp and any other supporting packages you want to make use of. Here we'll load JuMP, [Cbc.jl](https://github.com/jump-dev/Clp.jl), the interface for the open source [COIN-OR Linear Programming solver](https://projects.coin-or.org/Clp)."
   ]
  },
  {
   "cell_type": "code",
   "execution_count": null,
   "metadata": {},
   "outputs": [],
   "source": [
    "# Load JuMP and Clp packages for use in this notebook\n",
    "using JuMP\n",
    "using Clp"
   ]
  },
  {
   "cell_type": "markdown",
   "metadata": {},
   "source": [
    "## A factory example\n",
    "\n",
    "<img src=\"img/factory.png\" style=\"width: 800px; height: auto\" align=\"left\">"
   ]
  },
  {
   "cell_type": "markdown",
   "metadata": {},
   "source": [
    "Let's start by recalling our simple factory optimization example from the [Constrained Optimization notebook](Notebooks/Constrained-Optimization.ipynb), which seeks to maximize total revenue as a function of how many widgets of type A (decision variable $x$) and type B (decision variable $y$) to produce:\n",
    "\n",
    "$$\n",
    "\\begin{align}\n",
    "& \\max 150 x + 175 y &\\text{Objective function (revenue)}\\\\ \n",
    "& \\text{s.t.} & \\\\\n",
    "& 10 x + 8 y \\leq \\ 80 &\\text{Time constraint}\\\\\n",
    "& 7 x + 11 y \\leq \\ 77 &\\text{Materials constraint}\\\\\n",
    "& x \\leq 8 &\\text{Capacity constraint}\\\\\n",
    "& x, y \\geq 0 &\\text{Non-negativity constraints}\\\\\n",
    "\\end{align}\n",
    "$$"
   ]
  },
  {
   "cell_type": "code",
   "execution_count": null,
   "metadata": {},
   "outputs": [],
   "source": [
    "# import Pkg; Pkg.add(\"Plots\") # Uncomment and run this line if you need to install Plots package\n",
    "using Plots\n",
    "plotly() # use plotly backend: https://docs.juliaplots.org/latest/generated/plotly/"
   ]
  },
  {
   "cell_type": "code",
   "execution_count": null,
   "metadata": {
    "scrolled": false
   },
   "outputs": [],
   "source": [
    "# set up parameters and variables\n",
    "pa = 150\n",
    "pb = 175\n",
    "a = range(0,15,step=0.5)\n",
    "b = range(0,10,step=0.5)\n",
    "\n",
    "# define objective function\n",
    "f(a, b) = begin  (pa*a + pb*b)  end \n",
    "\n",
    "contour(a,b,(a,b)->f(a,b),nlevels=10, c=:heat, linewidth=10, colorbar = false, contour_labels = true)\n",
    "title!(\"Factory Optimization Problem\")\n",
    "xaxis!(\"x=Widget A\")\n",
    "yaxis!(\"y=Widget B\")\n",
    "xticks!(0:maximum(a))\n",
    "yticks!(0:maximum(b))\n",
    "areaplot!(a[a.<=11], (77 .- 7*a[a.<=11])./11, legend=false, opacity=0.3)\n",
    "areaplot!(a[a.<=8], (80 .- 10*a[a.<=8])./8, legend=false, opacity=0.3)\n",
    "areaplot!(a[a.<=8], repeat([maximum(b)],length(a[a.<=8])), legend=false, opacity=0.15)\n",
    "#areaplot!([8;0;4.888], [0;7;3.888], legend=false, opacity=1.0)\n",
    "#scatter!([8 0 4.88],[0 7 3.888])"
   ]
  },
  {
   "cell_type": "markdown",
   "metadata": {},
   "source": [
    "JuMP allows us to define an algebraic model that represents this optimization problem, which we'll do in several steps now...\n",
    "\n",
    "### 1. Define the model\n",
    "\n",
    "First, we **define the model**. A JuMP model object is a container for variables, constraints, solver options, etc. Models are created with the [Model()](https://jump.dev/JuMP.jl/stable/solvers/#JuMP.Model-Tuple{}) function. "
   ]
  },
  {
   "cell_type": "code",
   "execution_count": null,
   "metadata": {},
   "outputs": [],
   "source": [
    "factory_model = Model();"
   ]
  },
  {
   "cell_type": "markdown",
   "metadata": {},
   "source": [
    "### 2. Specify the optimization solver\n",
    "\n",
    "To solve a model, we need to also specify the [optimization solver](https://jump.dev/JuMP.jl/stable/solvers/#) (or \"optimizer\") for JuMP to use. \n",
    "\n",
    "A solver is a software package that incorporates computanionally efficient algorithms for finding solutions to one or more classes of optimization problems -- e.g. [simplex](https://en.wikipedia.org/wiki/Simplex_algorithm) and [interior-point](https://en.wikipedia.org/wiki/Interior-point_method) algorithms for solving linear programming (LP) problems; [branch-and-bound](https://en.wikipedia.org/wiki/Branch_and_bound) and [branch-and-cut](https://en.wikipedia.org/wiki/Branch_and_cut) algorithms for solving mixed-integer linear programming (MILP) problems.\n",
    "\n",
    "JuMP currently supports a number of open-source and commercial solvers which can be viewed\n",
    "[here](http://www.juliaopt.org/JuMP.jl/v0.19.1/installation/#Getting-Solvers-1).\n",
    "\n",
    "We specify the specific solver to use for this model either by using the [set_optimizer()](https://jump.dev/JuMP.jl/stable/solvers/#JuMP.set_optimizer) function or as an argument for the [Model()](https://jump.dev/JuMP.jl/stable/solvers/#JuMP.Model-Tuple{}) function when initially defining the model, as in the following examples..."
   ]
  },
  {
   "cell_type": "code",
   "execution_count": null,
   "metadata": {},
   "outputs": [],
   "source": [
    "set_optimizer(factory_model, Clp.Optimizer)\n",
    "factory_model = Model(Clp.Optimizer);"
   ]
  },
  {
   "cell_type": "markdown",
   "metadata": {},
   "source": [
    "Above, we specify the Clp solver interface. The argument `Clp.Optimizer` is an example of a JuMP \"Optimizer Factory\" parameter, a call to create an interface with a specific solver. Other examples include `GLPK.Optimizer`, `CPLEX.Optimizer`, `Gurobi.Optimizer`, etc."
   ]
  },
  {
   "cell_type": "markdown",
   "metadata": {},
   "source": [
    "### 3. Define variables\n",
    "\n",
    "Next, we define our [decision variables](https://jump.dev/JuMP.jl/stable/variables/), using the JuMP [@variable](https://jump.dev/JuMP.jl/stable/variables/#JuMP.@variable) [macro](https://docs.julialang.org/en/v1/manual/metaprogramming/#man-macros). \n",
    "\n",
    "The first argument in the `@variable()` macro is a reference to the model object that this decision variable is associated with, in this case `factory_model`. \n",
    "\n",
    "We can also pass lower and/or upper bounds on the decision variables at the time they are created using `<=` and `>=` notation..."
   ]
  },
  {
   "cell_type": "code",
   "execution_count": null,
   "metadata": {},
   "outputs": [],
   "source": [
    "@variable(factory_model, 8 >= x >= 0) # How many widgets of type A, including capacity constraint as upper bound"
   ]
  },
  {
   "cell_type": "code",
   "execution_count": null,
   "metadata": {},
   "outputs": [],
   "source": [
    "@variable(factory_model, y >= 0) # How many widgets of type B"
   ]
  },
  {
   "cell_type": "markdown",
   "metadata": {},
   "source": [
    "...Here we set a lower bound of 0 for both variables (e.g. ```y >= 0```), to reflect the non-negativity constraints in our decision variables (e.g. that we cannot produce a negative amount of widgets), and an upper bound of 8 for variable $x$, to reflect the capacity constraint on production of widget A (```8 >= x >=0```).\n",
    "\n",
    "You can also specify bounds by using the `lower_bound` and `upper_bound` keyword arguments (as in `@variable(model, x, lower_bound = 0, upper_bound = 8`). \n",
    "\n",
    "A variable without bounds is considered a \"free variable\" and is defined by simply ommitting any bounds (as in `@variable(model, free_x)`).\n",
    "\n",
    "The name provided for the variable in the `@variable` macro is the \"[base name](https://jump.dev/JuMP.jl/stable/variables/#Variable-names-1)\" assigned to this variable (e.g. `x` and `y` for our variables above). \n",
    "\n",
    "You can use the variable's base name as an argument in other JuMP functions to query attributes of this variable (or to recover a variable's value after solving the model). For example, we can check the upper bound on the `x` variable as follows..."
   ]
  },
  {
   "cell_type": "code",
   "execution_count": null,
   "metadata": {},
   "outputs": [],
   "source": [
    "upper_bound(x)"
   ]
  },
  {
   "cell_type": "markdown",
   "metadata": {},
   "source": [
    "Note that JuMP requires unique names for variables, expressions, and constraints. If you try to define the same variable name more than once, JuMP will throw an error to prevent you from accidentally overwriting the same variable (or constraint or expression). "
   ]
  },
  {
   "cell_type": "code",
   "execution_count": null,
   "metadata": {},
   "outputs": [],
   "source": [
    "@variable(factory_model, x >= 0) # Try defining x for a second time with different bounds"
   ]
  },
  {
   "cell_type": "markdown",
   "metadata": {},
   "source": [
    "You can see that the $x$ variable still has the old upper bound and has not been modified by the above attempt to define it again. "
   ]
  },
  {
   "cell_type": "code",
   "execution_count": null,
   "metadata": {},
   "outputs": [],
   "source": [
    "upper_bound(x)"
   ]
  },
  {
   "cell_type": "markdown",
   "metadata": {},
   "source": [
    "If we'd really wanted to modify the bounds for an existing JuMP variable, we would use the the `set_lower_bound` and `set_upper_bound` functions, or the ` delete_lower_bound` and `delete_upper_bound` functions to remove a previously established bound."
   ]
  },
  {
   "cell_type": "markdown",
   "metadata": {},
   "source": [
    "You can check if a name has already been assigned to a valid JuMP object (variable, expression, constraint) with the `is_valid(model_reference, JuMP_base_name)` function, and [delete an existing JuMP object](https://jump.dev/JuMP.jl/dev/variables/#Deleting-variables-1) with the `delete(model_reference, JuMP_base_name)` function."
   ]
  },
  {
   "cell_type": "code",
   "execution_count": null,
   "metadata": {},
   "outputs": [],
   "source": [
    "is_valid(factory_model, x)"
   ]
  },
  {
   "cell_type": "markdown",
   "metadata": {},
   "source": [
    "You can also use JuMP's `all_variables(model_reference)` function to enumerate a vector of references to all defined JuMP variables"
   ]
  },
  {
   "cell_type": "code",
   "execution_count": null,
   "metadata": {},
   "outputs": [],
   "source": [
    "all_variables(factory_model)"
   ]
  },
  {
   "cell_type": "markdown",
   "metadata": {},
   "source": [
    "### 4. Define constraints\n",
    "\n",
    "Next, we can define our more complicated constraints, which involve multiple variables.\n",
    "\n",
    "We have two constraints to define in this simple example, our time constraint, $10 x + 8 y \\leq \\ 80$ and our material constraint, $7 x + 11 y \\leq \\ 77$.\n",
    "\n",
    "We define constraints with the JuMP [@constraint](https://jump.dev/JuMP.jl/stable/constraints/#The-@constraint-macro-1) macro."
   ]
  },
  {
   "cell_type": "code",
   "execution_count": null,
   "metadata": {},
   "outputs": [],
   "source": [
    "@constraint(factory_model, time_constraint, 10x + 8y <= 80) # Time constraint"
   ]
  },
  {
   "cell_type": "code",
   "execution_count": null,
   "metadata": {},
   "outputs": [],
   "source": [
    "@constraint(factory_model, materials_constraint, 7x + 11y <= 77) # Materials constraint"
   ]
  },
  {
   "cell_type": "markdown",
   "metadata": {},
   "source": [
    "We can now call the model object we've been building, and JuMP will helpfully print out the mathematical formulation"
   ]
  },
  {
   "cell_type": "code",
   "execution_count": null,
   "metadata": {},
   "outputs": [],
   "source": [
    "factory_model"
   ]
  },
  {
   "cell_type": "markdown",
   "metadata": {},
   "source": [
    "As you can see, we've now defined all of the constraints in our simple factory model. But we're missing one very important thing..."
   ]
  },
  {
   "cell_type": "markdown",
   "metadata": {},
   "source": [
    "### 5. Define objective function\n",
    "\n",
    "Currently, our model only defines a feasible region (e.g. a set of constraints over the domain of our defined decision variables). But we have not specified what our objective function is: what are we trying to maximize or minimize?\n",
    "\n",
    "To define our objective function, we use the [@objective](https://jump.dev/JuMP.jl/dev/objective/#JuMP.@objective) macro. We have three arguments for this macro: (1) the model object we are defining the objective for, (2) specify whether this is a maximization (`Max`) or minimization (`Min`) problem, and (3) define the objective function itself."
   ]
  },
  {
   "cell_type": "code",
   "execution_count": null,
   "metadata": {},
   "outputs": [],
   "source": [
    "@objective(factory_model, Max, 150x + 175y)"
   ]
  },
  {
   "cell_type": "markdown",
   "metadata": {},
   "source": [
    "Now we can see the full model is defined..."
   ]
  },
  {
   "cell_type": "code",
   "execution_count": null,
   "metadata": {},
   "outputs": [],
   "source": [
    "factory_model"
   ]
  },
  {
   "cell_type": "markdown",
   "metadata": {},
   "source": [
    "### 6. Alternative ways to define our model\n",
    "\n",
    "We can define more than one variable at a time using a more compact syntax by using the [@variables](https://jump.dev/JuMP.jl/stable/variables/#variables-1) macro. Here we'll define both x and y variables at the same time..."
   ]
  },
  {
   "cell_type": "code",
   "execution_count": null,
   "metadata": {},
   "outputs": [],
   "source": [
    "factory_model = Model(Clp.Optimizer);\n",
    "@variables(factory_model, begin\n",
    "    8 >= x >= 0\n",
    "    y >= 0\n",
    "    end)\n",
    "print(factory_model)"
   ]
  },
  {
   "cell_type": "markdown",
   "metadata": {},
   "source": [
    "Note that the @variables macro does not automatically print the variable bounds, so we use the `print(model_name)` function above to print out the newly defined variables and their bounds."
   ]
  },
  {
   "cell_type": "markdown",
   "metadata": {},
   "source": [
    "We can also use the [@constraints](https://jump.dev/JuMP.jl/stable/constraints/#The-@constraints-macro-1) macro in a similar manner to define multiple constraints in a more compact syntax, if preferred..."
   ]
  },
  {
   "cell_type": "code",
   "execution_count": null,
   "metadata": {},
   "outputs": [],
   "source": [
    "@constraints(factory_model, begin\n",
    "    time_constraint, 10x + 8y <= 80\n",
    "    materials_constraint, 7x + 11y <= 77    \n",
    "    end)\n",
    "print(factory_model)"
   ]
  },
  {
   "cell_type": "markdown",
   "metadata": {},
   "source": [
    "Sometimes it is useful to define an algebraic [expression](https://jump.dev/JuMP.jl/stable/expressions/#) that may be insert in constraints, objective functions, or other expressions (e.g. to build up more complex expressions or to define an expression used repeatedly in multiple constraints). \n",
    "\n",
    "The recommended way to create an expression is via the [@expression](https://jump.dev/JuMP.jl/stable/expressions/#JuMP.@expression) macro, which is syntactically similar to the definition fo a constraint. The difference is that an expression is not directly part of the optimization problem definition. It only becomes incorporated into the model definition if you subsequently use a defined expression to define part of a constraint or objective function. As an example, let's use an expression here to define our objective function..."
   ]
  },
  {
   "cell_type": "code",
   "execution_count": null,
   "metadata": {},
   "outputs": [],
   "source": [
    "@expression(factory_model, objective, 150x + 175y)\n",
    "@objective(factory_model, Max, objective)\n",
    "print(factory_model)"
   ]
  },
  {
   "cell_type": "markdown",
   "metadata": {},
   "source": [
    "### 7. Solve the model\n",
    "\n",
    "Now that we've defined our factory model, let's solve it to find the optimal values $(x^*, y^*)$ that maximizes our objective function. \n",
    "\n",
    "To optimize a defined JuMP model for which a solver has been previously specified, use the [optimize!](https://jump.dev/JuMP.jl/stable/solvers/#JuMP.optimize!) function, supplying the model name as an argument..."
   ]
  },
  {
   "cell_type": "code",
   "execution_count": null,
   "metadata": {},
   "outputs": [],
   "source": [
    "optimize!(factory_model)"
   ]
  },
  {
   "cell_type": "markdown",
   "metadata": {},
   "source": [
    "We see that the solver (Clp) solved our optimization problem and found the optimal objective function value of 1413.888889. "
   ]
  },
  {
   "cell_type": "markdown",
   "metadata": {},
   "source": [
    "### 8. Query the optimal solution\n",
    "\n",
    "But what are the optimal decision variable values $(x^*, y^*)$? Now that the model has been solved to optimality, we can query the values of JuMP variables by using JuMP's [value()](https://jump.dev/JuMP.jl/stable/solutions/#JuMP.value) function"
   ]
  },
  {
   "cell_type": "code",
   "execution_count": null,
   "metadata": {},
   "outputs": [],
   "source": [
    "value(x)"
   ]
  },
  {
   "cell_type": "code",
   "execution_count": null,
   "metadata": {},
   "outputs": [],
   "source": [
    "value(y)"
   ]
  },
  {
   "cell_type": "markdown",
   "metadata": {},
   "source": [
    "Quick note: because JuMP uses [different containers](https://jump.dev/JuMP.jl/dev/containers/) depending on whether we've defined a single variable, a vector or square array of variables, or an array of variables with differing dimension lengths, they [recommend](https://jump.dev/JuMP.jl/dev/solutions/#Obtaining-solutions-1) using the [vectorized syntax or \"dot syntax\"](https://docs.julialang.org/en/v1/manual/functions/#man-vectorized) for the `value()` function, `value.(ref)`, rather than the `value(ref)` syntax used above. \n",
    "\n",
    "The `value.(ref)` syntax will work with any vector or array of variables and also with single variables (which can be treated as a vector of length 1), while the `value(ref)` syntax will only work when called for single variables. In this case, since we have a single variable only, we can use either syntax. We'll see an example of a vector of variables in the next section of this notebook..."
   ]
  },
  {
   "cell_type": "code",
   "execution_count": null,
   "metadata": {},
   "outputs": [],
   "source": [
    "value.(x)"
   ]
  },
  {
   "cell_type": "code",
   "execution_count": null,
   "metadata": {},
   "outputs": [],
   "source": [
    "value.(y)"
   ]
  },
  {
   "cell_type": "markdown",
   "metadata": {},
   "source": [
    "We can now see the optimal solution to our simple factory optimization model is $(x^*, y^*) = (4.8889, 3.8889)$, just as we determined in the [Constrained Optimization notebook](Notebooks/Constrained-Optimization.ipynb) via linear algebra."
   ]
  },
  {
   "cell_type": "code",
   "execution_count": null,
   "metadata": {},
   "outputs": [],
   "source": [
    "contour(a,b,(a,b)->f(a,b),nlevels=10, c=:heat, linewidth=10, colorbar = false, contour_labels = true)\n",
    "title!(\"Factory Optimization Problem\")\n",
    "xaxis!(\"x=Widget A\")\n",
    "yaxis!(\"y=Widget B\")\n",
    "xticks!(0:maximum(a))\n",
    "yticks!(0:maximum(b))\n",
    "areaplot!(a[a.<=11], (77 .- 7*a[a.<=11])./11, legend=false, opacity=0.3)\n",
    "areaplot!(a[a.<=8], (80 .- 10*a[a.<=8])./8, legend=false, opacity=0.3)\n",
    "areaplot!(a[a.<=8], repeat([maximum(b)],length(a[a.<=8])), legend=false, opacity=0.15)\n",
    "scatter!([value.(x)],[value.(y)], markercolor=\"blue\")"
   ]
  },
  {
   "cell_type": "markdown",
   "metadata": {},
   "source": [
    "We can also use the `value()` function to evaluate the value of named expressions and constraints we've previously defined and associated with the solved model. (Again, vectorized dot syntax is recommended, but both forms work for single constraints)."
   ]
  },
  {
   "cell_type": "code",
   "execution_count": null,
   "metadata": {},
   "outputs": [],
   "source": [
    "value.(time_constraint)"
   ]
  },
  {
   "cell_type": "markdown",
   "metadata": {},
   "source": [
    "We can see that this is the same value as we'd get by evaluating the time constraint at the optimal values $(x^*, y^*)$"
   ]
  },
  {
   "cell_type": "code",
   "execution_count": null,
   "metadata": {},
   "outputs": [],
   "source": [
    "10*value.(x) + 8*value.(y)"
   ]
  },
  {
   "cell_type": "markdown",
   "metadata": {},
   "source": [
    "We can also evaluate the `objective` expression we defined previously, $150x + 175y$, and save this to a variable names `optimal_revenue` (e.g. for use later)."
   ]
  },
  {
   "cell_type": "code",
   "execution_count": null,
   "metadata": {},
   "outputs": [],
   "source": [
    "optimal_revenue = value(objective)"
   ]
  },
  {
   "cell_type": "markdown",
   "metadata": {},
   "source": [
    "Or we can directly query the objective function value associated with our `factory_model` JuMP model object by using JuMP's `objective_value()` function and passing a reference to the model as follows. Since we don't always define an expression for our objective function, this is the typical way to access the objective function value for our optimal solution."
   ]
  },
  {
   "cell_type": "code",
   "execution_count": null,
   "metadata": {},
   "outputs": [],
   "source": [
    "optimal_revenue = objective_value(factory_model)"
   ]
  },
  {
   "cell_type": "markdown",
   "metadata": {},
   "source": [
    "Note that if there are certain expressions that you want to be able to quickly extract from the model's results, it can make sense to define an expression prior to solving the model, even if you do not use the expression to build a constraint or define the objective function that makes up the actual constrained optimization problem. \n",
    "\n",
    "For example, if we wanted to quickly extract the sum of widgets produced $(x+y)$ without individually querying each decision variable value, we could define an expression `@expression(factory_model, total_widgets, x+y)`, and then simply use `value(total_widgets)` to get this sum. \n",
    "\n",
    "Obviously, this is a pretty simple expression, but for more complex models, this can be a handy approach to make it easy to extract results of interest."
   ]
  },
  {
   "cell_type": "code",
   "execution_count": null,
   "metadata": {},
   "outputs": [],
   "source": [
    "@expression(factory_model, total_widgets, x+y)"
   ]
  },
  {
   "cell_type": "code",
   "execution_count": null,
   "metadata": {},
   "outputs": [],
   "source": [
    "value.(total_widgets)"
   ]
  },
  {
   "cell_type": "markdown",
   "metadata": {},
   "source": [
    "## A More Complex Model: Optimal Solar + Battery Storage Operations\n",
    "\n",
    "The factory example above is a pretty simple problem. Useful for introducing the basic anatomy of a JuMP model, but hardly worth relying on algebraic programming to find the solution (as it can be obtained analytically without much trouble). So let's now turn to a more complex example..."
   ]
  },
  {
   "cell_type": "markdown",
   "metadata": {},
   "source": [
    "<img src=\"img/solar.png\" style=\"width: 800px; height: auto\" align=\"left\">"
   ]
  },
  {
   "cell_type": "markdown",
   "metadata": {},
   "source": [
    "Assume you are a renewable energy company and you own a 50 megawatt (MW) utility-scale solar PV system and recently installed a 10 MW / 40 megawatt-hours (MWh) Lithium-ion battery system at the same site. Both solar and battery systems take advantage of the same DC-AC inverters (solar PV and batteries are both direct current devices) and transmission grid connection (substation).\n",
    "\n",
    "Given a series of electricity prices, how should you operate your solar PV and storage system to maximize revenue? When do you charge, and when do you discharge? Should you buy extra power from the grid when it's cheap and store it for later when prices are high, or just make use of your solar PV system to charge the battery? What's the best operational plan to maximize revenue over the next 24 hours?\n",
    "\n",
    "Sounds like a good optimization problem!"
   ]
  },
  {
   "cell_type": "markdown",
   "metadata": {},
   "source": [
    "### 1. Load data and define parameters\n",
    "\n",
    "Before we get started defining our model, we need to load some useful data and define a set of **parameters** or constant values used in our optimization problem.\n",
    "\n",
    "For purposes of this example, we will use **time series data** for a single day of 15-minute [real-time electricity market prices](http://mis.ercot.com/misapp/GetReports.do?reportTypeId=13061&reportTitle=Historical%20RTM%20Load%20Zone%20and%20Hub%20Prices&showHTMLView=&mimicKey) from the Western Hub of the Electricity Reliability Council of Texas (ERCOT) electricity market, along with simulated solar PV output from [Renewables.Ninja](https://www.renewables.ninja/), which we'll load in from a .csv file with help from Julia's [CSV](https://juliadata.github.io/CSV.jl/stable/) and [DataFrames](https://juliadata.github.io/DataFrames.jl/stable/) packages."
   ]
  },
  {
   "cell_type": "code",
   "execution_count": null,
   "metadata": {},
   "outputs": [],
   "source": [
    "# Note, you don't need to run this block if CSV and DataFrames packages are already installed\n",
    "import Pkg\n",
    "Pkg.add(\"CSV\")\n",
    "Pkg.add(\"DataFrames\")"
   ]
  },
  {
   "cell_type": "code",
   "execution_count": null,
   "metadata": {},
   "outputs": [],
   "source": [
    "using CSV\n",
    "using DataFrames\n",
    "time_series = DataFrame(CSV.File(\"anatomy_data/solar_battery_data.csv\"))"
   ]
  },
  {
   "cell_type": "code",
   "execution_count": null,
   "metadata": {},
   "outputs": [],
   "source": [
    "using Plots\n",
    "plotly() # use plotly backend: https://docs.juliaplots.org/latest/generated/plotly/"
   ]
  },
  {
   "cell_type": "code",
   "execution_count": null,
   "metadata": {},
   "outputs": [],
   "source": [
    "plot(time_series.Price, label=\"Price (\\$/MWh)\")\n",
    "plot!(time_series.Solar, label=\"Solar PV (MW-dc)\")\n",
    "title!(\"Price and Solar PV time series\")\n",
    "xaxis!(\"Time Interval (15 mins)\")\n",
    "yaxis!(\"\")"
   ]
  },
  {
   "cell_type": "markdown",
   "metadata": {},
   "source": [
    "Additionally, we'll define the following **capacity parameters** for each of the major subcomponents of our solar + battery system..."
   ]
  },
  {
   "cell_type": "code",
   "execution_count": null,
   "metadata": {},
   "outputs": [],
   "source": [
    "solar_cap   = 50      # Solar PV capacity in DC MW\n",
    "battery_cap = 10      # Lithium ion battery power (charge/discharge) capacity in DC MW\n",
    "energy_cap  = 40      # Lithium ion battery energy capacity (in MWh)\n",
    "grid_cap    = 40      # DC-AC inverter and grid connection capacity (rated in AC MW)\n",
    "@show solar_cap\n",
    "@show battery_cap\n",
    "@show energy_cap\n",
    "@show grid_cap"
   ]
  },
  {
   "cell_type": "markdown",
   "metadata": {},
   "source": [
    "Next, we will define a set of **efficiency parameters**, which help govern the flow of electricity through our solar + storage system."
   ]
  },
  {
   "cell_type": "code",
   "execution_count": null,
   "metadata": {},
   "outputs": [],
   "source": [
    "battery_eff = 0.95    # 'Single-trip' charge or discharge efficiency for the Lithium ion battery\n",
    "inverter_eff = 0.9    # Efficiency of DC-AC or AC-DC conversion at inverter\n",
    "@show battery_eff\n",
    "@show inverter_eff"
   ]
  },
  {
   "cell_type": "markdown",
   "metadata": {},
   "source": [
    "Finally, we set the **starting state of charge** of the battery at the beginning of the simulation day, which we'll assume is half full."
   ]
  },
  {
   "cell_type": "code",
   "execution_count": null,
   "metadata": {},
   "outputs": [],
   "source": [
    "start_charge = 0.5*energy_cap"
   ]
  },
  {
   "cell_type": "markdown",
   "metadata": {},
   "source": [
    "### 2. Define the model\n",
    "\n",
    "Now that we have our parameters set, let's define a new optimization model, a linear programming problem using the Clp open source solver."
   ]
  },
  {
   "cell_type": "code",
   "execution_count": null,
   "metadata": {},
   "outputs": [],
   "source": [
    "PV_model = Model(Clp.Optimizer)"
   ]
  },
  {
   "cell_type": "markdown",
   "metadata": {},
   "source": [
    "### 3. Define decision variables\n",
    "\n",
    "Now we have to define our decision variables. For each of our time intervals, we have five important **operating decisions** to make:\n",
    "\n",
    "1. How much DC power to produce (or curtail) from our solar PV system\n",
    "2. How much DC power to charge the battery\n",
    "3. How much DC power to discharge from the battery\n",
    "4. How much AC power to export to the grid\n",
    "5. How much AC power to import from the grid (e.g. to charge the battery)\n",
    "\n",
    "For the purposes of this optimization problem, we will consider these discrete time decisions taken every 15 minutes. \n",
    "\n",
    "Additionally, we will define a final variable:\n",
    "\n",
    "6. How much energy is stored in the battery (storage state of charge)\n",
    "\n",
    "While this state of charge variable is technically defined as a decision variable, it is actually completely constrained by the other variables, as we'll see below. This is an example of a [state variable](https://en.wikipedia.org/wiki/State_variable). We'll come back to state variables in dynamical systems when we introduce time coupling constraints in more depth in the Economic Dispatch notebook... \n",
    "\n",
    "Since we take the same kinds of decisions in each 15 minute time interval, we will thus define **an array of decision variables** for each type of decision, indexed across all time periods `t` in the set `T` as defined by our time series data `time_series.T`. \n",
    "\n",
    "This is our first example of creating an array of variables and **indexing across sets**. In practice, you'll frequently define arrays of variables and constraints that repeat across various sets or dimensions of your data (e.g. time periods, generators, regions, transmission lines). Note that variables can be indexed across multiple dimensions in N-dimensional containers (although here we will only index across the single dimension: time periods). [Read more on variable containers here](https://jump.dev/JuMP.jl/dev/variables/#Variable-containers-1).\n",
    "\n",
    "Additionally, we will define bounds for each decision variable based on the capacity parameters set previously. We'll set solar's upper bounds later, as these vary by time interval depending on the availability of solar insolation at the time.\n",
    "\n",
    "Note: by convention, and to make it easy to spot a decision variable in future expressions, we'll use the convention that all decision variable names will follow the format `UPPERCASE`. (This is an optional convention, and you can feel free to adopt your own, but we recommend adopting a consistent convention for naming variables, constraints, expressions, parameters, etc.)"
   ]
  },
  {
   "cell_type": "code",
   "execution_count": null,
   "metadata": {},
   "outputs": [],
   "source": [
    "# Decision variables and bounds:\n",
    "\n",
    "@variables(PV_model, begin\n",
    "                          SOLAR[t in time_series.T]      >= 0\n",
    "        battery_cap    >= CHARGE[t in time_series.T]     >= 0\n",
    "        battery_cap    >= DISCHARGE[t in time_series.T]  >= 0\n",
    "        grid_cap       >= GRIDEXPORT[t in time_series.T] >= 0\n",
    "        grid_cap       >= GRIDIMPORT[t in time_series.T] >= 0\n",
    "        energy_cap     >= SOC[t in time_series.T]        >= 0\n",
    "                          \n",
    "end)\n",
    "PV_model"
   ]
  },
  {
   "cell_type": "markdown",
   "metadata": {},
   "source": [
    "### 4. Define expressions\n",
    "\n",
    "Now we define an  expressions that relate the flow of electricity within our solar + storage system. \n",
    "\n",
    "Note that by convention, and to distinguish expression names from decision variable names and constraint names, we will use the convention that all expression names take the format `eExpressionName`. (This is an optional convention, and you can feel free to adopt your own, but we recommend adopting a consistent convention for naming variables, constraints, expressions, parameters, etc.)\n",
    "\n",
    "1. First, the net solar + storage DC power production or consumption can be expressed by the sum of solar PV and battery discharge less battery charging in each time period `t`. \n",
    "\n",
    "$\\begin{align*} \n",
    "eNetSolarStorage_t = SOLAR_t + DISCHARGE_t - CHARGE_t \\quad \\forall t \\in T\n",
    "\\end{align*}$\n",
    "\n",
    "We next combine grid exports, $GRIDEXPORT$, and grid imports, $GRIDIMPORT$, to form a \"net grid export\" expression representing the net interchange of power with the grid in DC terms, after accounting for conversion losses from DC to AC power for exports and AC to DC power for imports.\n",
    "\n",
    "$\\begin{align*} \n",
    "eNetExport_t = \\frac{GRIDEXPORT_t}{inverter\\_eff} - GRIDIMPORT_t \\times inverter\\_eff \\quad \\forall t \\in T\n",
    "\\end{align*}$\n",
    "\n",
    "\n",
    "As with our variables, we will define this expression as an array indexed across the set of time periods `t` in the time series `T`, since this holds for all time periods..."
   ]
  },
  {
   "cell_type": "code",
   "execution_count": null,
   "metadata": {},
   "outputs": [],
   "source": [
    "# System production and grid export/import flow\n",
    "@expression(PV_model, eNetSolarStorage[t in time_series.T], \n",
    "    SOLAR[t] + DISCHARGE[t] - CHARGE[t])\n",
    "@expression(PV_model, eNetExport[t in time_series.T], \n",
    "    GRIDEXPORT[t]/inverter_eff - GRIDIMPORT[t]*inverter_eff);"
   ]
  },
  {
   "cell_type": "code",
   "execution_count": null,
   "metadata": {},
   "outputs": [],
   "source": [
    "@show(eNetSolarStorage)\n",
    "@show(eNetExport)"
   ]
  },
  {
   "cell_type": "markdown",
   "metadata": {},
   "source": [
    "2. Second, the **total revenue** from sale or purchase of electricity in each time period is expressed by the sum product of prices in each interval times the net AC energy exported (or imported) to (or from) the grid (using the $GRIDEXPORT$ and $GRIDIMPORT$ decision variables). Since prices are expressed per whole MWh and our time intervals are 15 minutes, we multiply the net flow of AC power by 0.25 to determine the total energy sold/purchased.\n",
    "\n",
    "$\\begin{align*} \n",
    "&eRevenue = \\sum_{t \\in T} (GRIDEXPORT_t - GRIDIMPORT_t) \\times Price_t \\times 0.25\n",
    "\\end{align*}$\n",
    "\n",
    "Here we see our first example of the syntax for a sum expression."
   ]
  },
  {
   "cell_type": "code",
   "execution_count": null,
   "metadata": {},
   "outputs": [],
   "source": [
    "@expression(PV_model, eRevenue, sum((GRIDEXPORT[t]-GRIDIMPORT[t])*time_series.Price[t]*0.25 \n",
    "        for t in time_series.T));"
   ]
  },
  {
   "cell_type": "code",
   "execution_count": null,
   "metadata": {},
   "outputs": [],
   "source": [
    "@show(eRevenue)"
   ]
  },
  {
   "cell_type": "markdown",
   "metadata": {},
   "source": [
    "Note that JuMP automatically interprets our expression definitions by converting the parameter references to constants and distributing terms into [linear combination](https://en.wikipedia.org/wiki/Linear_combination) of coefficients and decision variabes, as per the displayed text above. So feel free to define these expressions however you'd like, and JuMP will take care of the math..."
   ]
  },
  {
   "cell_type": "markdown",
   "metadata": {},
   "source": [
    "### 5. Constraints\n",
    "\n",
    "Now we define a set of constraints that define the feasible region for our decision variables, based on the engineering constraints for our solar and storage system.\n",
    "\n",
    "Note that by convention, and to distinguish constraint names from decision variable names and expression names, we will use the convention that all constraint names take the format `cExpressionName`. (This is an optional convention, and you can feel free to adopt your own, but we recommend adopting a consistent convention for naming variables, constraints, expressions, parameters, etc.)\n",
    "\n",
    "1. First, we must conserve energy in each time interval. Power produced in the system over each 15 minute interval must match the net power injected into the grid, accounting for losses from converting DC to AC power and vice versa at the inverter ($inverter\\_eff$). This is what is known as an **energy balance constraint**. We'll make use of our previously defined expression for net DC power produced/consumed by our solar+storage system ($eNetSolarStorage$) and our expression for net DC exports/imports ($eNetExports$) here, and ensure that the two expressions always always equal -- no free energy here! \n",
    "\n",
    "$\\begin{align*} \n",
    "\\quad eNetSolarStorage = eNetExport \\quad \\forall t \\in T\n",
    "\\end{align*}$"
   ]
  },
  {
   "cell_type": "code",
   "execution_count": null,
   "metadata": {},
   "outputs": [],
   "source": [
    "@constraint(PV_model, \n",
    "    cEnergyBalance[t in time_series.T], # Named array of constraints indexed across all times t in T\n",
    "    eNetSolarStorage[t] == eNetExport[t]  # Constraint definition\n",
    ");"
   ]
  },
  {
   "cell_type": "code",
   "execution_count": null,
   "metadata": {},
   "outputs": [],
   "source": [
    "@show(cEnergyBalance)"
   ]
  },
  {
   "cell_type": "markdown",
   "metadata": {},
   "source": [
    "You can see that JuMP automatically interprets the expressions here to construct constraints that are [linear combinations](https://en.wikipedia.org/wiki/Linear_combination) of parameters and decision variables only, and moves to the right hand side a single constant (in this case $0$.) That is, JuMP automatically converts all constraint expressions to the form:\n",
    "\n",
    "$\\begin{align*}\n",
    "&a_1 \\times x_1 + a_2 \\times x_2 + ... + a_N \\times x_N == b\\\\\n",
    "&\\text{or: } \\sum_{i=1:N} a_i x_i == b\n",
    "\\end{align*}$  \n",
    "\n",
    "...or the equivalent with inequalities ($\\geq$ or $\\leq)$ replacing the equality constraint. \n",
    "\n",
    "So feel free to express constraint definitions in whatever way is most intuitive to you, and JuMP will figure out the rest."
   ]
  },
  {
   "cell_type": "markdown",
   "metadata": {},
   "source": [
    "2. The **state of charge** of the battery is constrainted to be equal to the state of charge in the prior time period `t-1` plus the energy charged during this time period less the energy discharged during this time period, accounting for storage efficiency losses. \n",
    "\n",
    "$\\begin{align*} \n",
    "SOC_t = SOC_{t-1} + 0.25\\big(CHARGE_t * battery\\_eff - \\frac{DISCHARGE_t}{battery\\_eff}\\big)  \\quad \\forall t \\in T\n",
    "\\end{align*}$\n",
    "\n",
    "Note that as we model 15 minute time steps here, we multiply the charge and discharge power (in MW) by 0.25 to determine the change in storage energy (in MWh). \n",
    "\n",
    "This is an example of a recursive constraint: the state of charge in each period depends on the state of charge in the prior period. So we have to define a special case for the first time period, with the starting state of charge as the simulation defined by a parameter earlier. As each expression refers to the expression in the previous time step, we will proceed through a `for` loop to define each expression..."
   ]
  },
  {
   "cell_type": "code",
   "execution_count": null,
   "metadata": {},
   "outputs": [],
   "source": [
    "# First define an Array of length equal to our time series to contain references to each expression\n",
    "cStateOfCharge = Array{Any}(undef, length(time_series.T))\n",
    "\n",
    "# First period state of charge:\n",
    "cStateOfCharge[1] = @constraint(PV_model, \n",
    "    SOC[1] == start_charge + (CHARGE[1]*battery_eff - DISCHARGE[1]/battery_eff)*0.25\n",
    ") \n",
    "\n",
    "# All other time periods, defined recursively based on prior state of charge\n",
    "for t in time_series.T[(time_series.T .> 1)]\n",
    "    cStateOfCharge[t] = @constraint(PV_model, \n",
    "        SOC[t] == SOC[t-1] + CHARGE[t]*battery_eff*0.25 - DISCHARGE[t]/battery_eff*0.25\n",
    "    )\n",
    "end\n",
    "\n",
    "# cStateOfCharge # display constraints"
   ]
  },
  {
   "cell_type": "code",
   "execution_count": null,
   "metadata": {},
   "outputs": [],
   "source": [
    "@show(cStateOfCharge)"
   ]
  },
  {
   "cell_type": "markdown",
   "metadata": {},
   "source": [
    "3. Finally, we must constrain the **maximum solar PV output** to reflect the weather-dependent variation in solar insolation in each time period. The maximum available solar power output in each time interval is provided by the parameters in the Solar time series input data. Thus, the constraint is of the form:\n",
    "\n",
    "$\\begin{align*} \n",
    "SOLAR \\leq time\\_series.Solar_t \\quad \\forall t \\in T\n",
    "\\end{align*}$"
   ]
  },
  {
   "cell_type": "code",
   "execution_count": null,
   "metadata": {},
   "outputs": [],
   "source": [
    "@constraint(PV_model, cMaxSolar[t in time_series.T], \n",
    "    SOLAR[t] <= time_series.Solar[t]\n",
    ");"
   ]
  },
  {
   "cell_type": "code",
   "execution_count": null,
   "metadata": {},
   "outputs": [],
   "source": [
    "@show(cMaxSolar)"
   ]
  },
  {
   "cell_type": "markdown",
   "metadata": {},
   "source": [
    "### 6. Set Objective Function\n",
    "\n",
    "Finally, we set our objective function, which is to maximize the revenue from our solar and storage system across the time series (one day). We can make use of the revenue expression we defined previous:\n",
    "\n",
    "$\\begin{align*} \n",
    "\\max eRevenue &=\\\\\n",
    "&\\sum_{t \\in T} (GRIDEXPORT_t - GRIDIMPORT_t) \\times Price_t \\times 0.25\n",
    "\\end{align*}$"
   ]
  },
  {
   "cell_type": "code",
   "execution_count": null,
   "metadata": {},
   "outputs": [],
   "source": [
    "@objective(PV_model, Max, eRevenue);"
   ]
  },
  {
   "cell_type": "markdown",
   "metadata": {},
   "source": [
    "\n",
    "\n",
    "\n",
    "Let's take a look at our full model...\n"
   ]
  },
  {
   "cell_type": "code",
   "execution_count": null,
   "metadata": {},
   "outputs": [],
   "source": [
    "PV_model"
   ]
  },
  {
   "cell_type": "markdown",
   "metadata": {},
   "source": [
    "\n",
    "A little more complicated, eh? Now you can see why it is useful to have an algebraic programming language to define more complex models and then hand over to a solver to do the hard math. \n",
    "\n",
    "As JuMP enumerates each individual variable when printing the model, here's a more compact algebraic definition of the solar and storage optimal dispatch problem:\n",
    "\n",
    "\n",
    "$\n",
    "{\\scriptstyle\\begin{align*}\n",
    "& \\max \\sum_{t \\in T} (GRIDEXPORT_t - GRIDIMPORT_t) \\times Price_t \\times 0.25 && \\text{Objective function (revenue)}\\\\[6pt] \n",
    "& \\text{s.t.} && \\\\[6pt]\n",
    "& eNetSolarStorage_t = SOLAR_t + DISCHARGE_t - CHARGE_t & \\forall t \\in T &\\quad \\text{Net solar and storage production (DC MW)} \\\\[6pt]\n",
    "& eNetExport_t = \\frac{GRIDEXPORT_t}{inverter\\_eff} - GRIDIMPORT_t \\times inverter\\_eff & \\forall t \\in T &\\quad \\text{Net grid interchange (DC MW)} \\\\[6pt]\n",
    "& eNetSolarStorage_t = eNetExport_t  & \\forall t \\in T &\\quad \\text{Energy balance constraint} \\\\[6pt]\n",
    "& SOC_1 = start\\_charge + 0.25 \\big(CHARGE_1 * battery\\_eff - \\frac{DISCHARGE_1}{battery\\_eff}\\big)  & &\\\\[6pt]\n",
    "& SOC_t = SOC_{t-1} + 0.25 \\big(CHARGE_t * battery\\_eff - \\frac{DISCHARGE_t}{battery\\_eff}\\big)  & \\forall t \\in T \\text{ & } t > 1 &\\quad \\text{State of charge constraints}\\\\[6pt]\n",
    "& SOLAR_t  \\leq time\\_series.Solar_t     &\\forall t \\in T & \\quad \\text{Solar PV capacity constraints}\\\\[6pt]\n",
    "& CHARGE_t     \\leq battery\\_cap         &\\forall t \\in T & \\quad \\text{Charge capacity constraints}\\\\[6pt]\n",
    "& DISCHARGE_t    \\leq battery\\_cap      &\\forall t \\in T & \\quad \\text{Discharge capacity constraints}\\\\[6pt]\n",
    "& SOC_t    \\leq energy\\_cap             &\\forall t \\in T & \\quad \\text{State of charge capacity constraints}\\\\[6pt]\n",
    "& GRIDEXPORT_t    \\leq grid\\_cap      &\\forall t \\in T & \\quad \\text{Grid capacity constraint (exports)}\\\\[6pt]\n",
    "& GRIDIMPORT_t    \\leq grid\\_cap             &\\forall t \\in T & \\quad \\text{Grid capacity constraint (imports)}\\\\[6pt]\n",
    "& SOLAR_t, CHARGE_t, DISCHARGE_t, &&\\\\\n",
    "& SOC_t, GRIDEXPORT_t, GRIDIMPORT_t, \\geq 0 &\\forall t \\in T & \\quad \\text{Non-negativity constraints}\\\\[6pt]\n",
    "\\end{align*}}\n",
    "$\n"
   ]
  },
  {
   "cell_type": "markdown",
   "metadata": {},
   "source": [
    "\n",
    "\n",
    "Let's optimize this problem!"
   ]
  },
  {
   "cell_type": "code",
   "execution_count": null,
   "metadata": {},
   "outputs": [],
   "source": [
    "optimize!(PV_model)"
   ]
  },
  {
   "cell_type": "markdown",
   "metadata": {},
   "source": [
    "### Results!\n",
    "\n",
    "We can see from the solver that the optimal revenue is \\$7290. \n",
    "\n",
    "We can now access the optimal decision variables as well. As these are now arrays of variables, we must use the [vectorized syntax](https://docs.julialang.org/en/v1/manual/functions/#man-vectorized) version of JuMP's `value()` function: `value.(ArrayOfVariablesReference)` \n",
    "\n",
    "Similarly, for or arrays of expressions or constraints, use: `value.(ArrayOfExpressionsReference)` or `value.(ArrayOfConstraintsReference)`.\n",
    "\n",
    "For example, here's the optimal state of charge for the battery across the day:"
   ]
  },
  {
   "cell_type": "code",
   "execution_count": null,
   "metadata": {},
   "outputs": [],
   "source": [
    "value.(SOC)"
   ]
  },
  {
   "cell_type": "markdown",
   "metadata": {},
   "source": [
    "Additionally, we can compile all of the results into a DataFrame and write to a csv to save our outputs for further analysis.\n",
    "\n",
    "Note however that `value.(Reference)` will return a JuMP [DenseAxisArray](https://jump.dev/JuMP.jl/dev/variables/#variable_jump_arrays-1) which is not a data format that is compatible with DataFrames. To access the numerical values for an array of JuMP variables or expressions in a DenseAxisArray, you use the syntax `value.(Reference).data`."
   ]
  },
  {
   "cell_type": "code",
   "execution_count": null,
   "metadata": {},
   "outputs": [],
   "source": [
    "typeof(value.(SOC))"
   ]
  },
  {
   "cell_type": "code",
   "execution_count": null,
   "metadata": {},
   "outputs": [],
   "source": [
    "typeof(value.(SOC).data)"
   ]
  },
  {
   "cell_type": "markdown",
   "metadata": {},
   "source": [
    "Below we compile the DataFrame and write it to .csv file. Note that we copy in the time intervals and price in each time period from the input time series as well for context."
   ]
  },
  {
   "cell_type": "code",
   "execution_count": null,
   "metadata": {},
   "outputs": [],
   "source": [
    "results = DataFrame(\n",
    "    T = time_series.T,\n",
    "    Price = time_series.Price,\n",
    "    Solar_Output = value.(SOLAR).data, \n",
    "    Storage_Discharge = value.(DISCHARGE).data,\n",
    "    Storage_Charge = value.(CHARGE).data,\n",
    "    Storage_SOC = value.(SOC).data,\n",
    "    Export = value.(GRIDEXPORT).data,\n",
    "    Import = value.(GRIDIMPORT).data,\n",
    "    Interval_Revenue = (value.(GRIDEXPORT).data-value.(GRIDIMPORT).data) .* time_series.Price *0.25\n",
    "    )"
   ]
  },
  {
   "cell_type": "code",
   "execution_count": null,
   "metadata": {},
   "outputs": [],
   "source": [
    "# Let's create a folder for our results\n",
    "path = \"results\" # Replace this with a different path if you prefer to write to another location\n",
    "if !ispath(path) \n",
    "    mkdir(path)\n",
    "end\n",
    "write_path = joinpath(path, \"solar_storage_results.csv\") \n",
    "CSV.write(write_path, results)"
   ]
  },
  {
   "cell_type": "markdown",
   "metadata": {},
   "source": [
    "Finally, let's plot the optimal operational decisions for our solar and storage system...."
   ]
  },
  {
   "cell_type": "code",
   "execution_count": null,
   "metadata": {},
   "outputs": [],
   "source": [
    "plot(results.Solar_Output, label=\"Solar (MW-dc)\")\n",
    "plot!(results.Storage_Discharge, label=\"Discharge (MW-dc)\")\n",
    "plot!(-1*results.Storage_Charge, label=\"Charge (MW-dc)\")\n",
    "plot!(results.Storage_SOC, label=\"State Of Charge (MWh)\")\n",
    "title!(\"Solar and Storage Operations\")\n",
    "xaxis!(\"Time Interval (15 mins)\")\n",
    "yaxis!(\"\")"
   ]
  },
  {
   "cell_type": "code",
   "execution_count": null,
   "metadata": {},
   "outputs": [],
   "source": [
    "plot(results.Price, label=\"Price (\\$/MWh)\")\n",
    "plot!(results.Export- results.Import, label=\"Net Grid Export (MW-ac)\")\n",
    "title!(\"Net Grid Export and Price\")\n",
    "xaxis!(\"Time Interval (15 mins)\")\n",
    "yaxis!(\"\")"
   ]
  },
  {
   "cell_type": "markdown",
   "metadata": {},
   "source": [
    "You can see that the storage system charges during the morning hours by importing power from the grid when energy prices are zero or slightly negative (which means the storage system gets paid to charge!) and discharges a bit during the morning as solar comes on and prices go positive. Later, the system charges storage from a portion of the solar PV output during the middle of the day to avoid curtailing solar output that peaks at 50 MW-dc and exceeds the grid connection capacity (40 MW-ac or 44.444 MW-dc accounting for inverter losses prior to export). This energy is then discharged and exported during the evening when solar output is gone and electricity prices spike to their highest level of the day."
   ]
  },
  {
   "cell_type": "code",
   "execution_count": null,
   "metadata": {},
   "outputs": [],
   "source": []
  }
 ],
 "metadata": {
  "kernelspec": {
   "display_name": "Julia 1.5.3",
   "language": "julia",
   "name": "julia-1.5"
  },
  "language_info": {
   "file_extension": ".jl",
   "mimetype": "application/julia",
   "name": "julia",
   "version": "1.5.3"
  }
 },
 "nbformat": 4,
 "nbformat_minor": 4
}
