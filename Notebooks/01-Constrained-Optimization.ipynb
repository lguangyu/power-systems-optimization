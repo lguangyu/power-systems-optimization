{
 "cells": [
  {
   "cell_type": "markdown",
   "metadata": {},
   "source": [
    "# Constrained Optimization\n",
    "\n",
    "_**[Power Systems Optimization](https://github.com/east-winds/power-systems-optimization)**_\n",
    "\n",
    "_by Michael R. Davidson and Jesse D. Jenkins (last updated: August 31, 2020)_\n",
    "\n",
    "This notebook will introduce the concept of constrained optimization--that is, an optimization model consisting of an objective function (something to minimize or maximize), decision variables (variables we can adjust), and constraints (limitations on the values of the decision variables)."
   ]
  },
  {
   "cell_type": "markdown",
   "metadata": {},
   "source": [
    "## Factory example\n",
    "\n",
    "Let's begin with a simple example. You own a factory that can produce two types of widgets: \n",
    "\n",
    "**Widget A** generates a profit of $\\pi_A=$ \\$150 per widget. \n",
    "\n",
    "**Widget B** generates a profit of $\\pi_B=$ \\$175 per widget. "
   ]
  },
  {
   "cell_type": "markdown",
   "metadata": {},
   "source": [
    "We cannot produce a negative amount of widgets (\"non-negativity constraints\"). "
   ]
  },
  {
   "cell_type": "markdown",
   "metadata": {},
   "source": [
    "Our goal is to *maximize* total revenue $\\pi_A x + \\pi_B y$.  We call this our **objective function**.\n",
    "\n",
    "This gives us the following simple problem:\n",
    "\n",
    "$$\n",
    "\\begin{align}\n",
    "\\max \\ & 150 x + 175 y\\\\\n",
    "\\text{s.t.} & \\\\\n",
    " & x \\geq 0 \\\\\n",
    " & y \\geq 0\n",
    "\\end{align}\n",
    "$$\n",
    "\n",
    "As $x$ and $y$ are the variables describing the quantity of widget A and widget B to produce to maximize our objective function, we call these our **decision variables**."
   ]
  },
  {
   "cell_type": "code",
   "execution_count": null,
   "metadata": {
    "scrolled": true
   },
   "outputs": [],
   "source": [
    "# import Pkg; Pkg.add(\"Plots\")\n",
    "using Plots\n",
    "plotly() # use plotly backend: https://docs.juliaplots.org/latest/generated/plotly/"
   ]
  },
  {
   "cell_type": "code",
   "execution_count": null,
   "metadata": {},
   "outputs": [],
   "source": [
    "# set up parameters and variables\n",
    "pa = 150\n",
    "pb = 175\n",
    "x = range(0,15,step=0.5)\n",
    "y = range(0,10,step=0.5)\n",
    "\n",
    "# define objective function\n",
    "f(x, y) = begin  (pa*x + pb*y)  end \n",
    "\n",
    "contour(x,y,(x,y)->f(x,y),nlevels=10, c=:heat, linewidth=10, colorbar = false, contour_labels = true)\n",
    "xaxis!(\"x=Widget A\")\n",
    "yaxis!(\"y=Widget B\")\n",
    "xticks!(0:maximum(x))\n",
    "yticks!(0:maximum(y))\n",
    "title!(\"Objective function gradient lines\")"
   ]
  },
  {
   "cell_type": "markdown",
   "metadata": {},
   "source": [
    "But, wait. We could just increase the objective function indefinitely by ramping up production of A and B. There is no maximum profit. This is an example of an **unbounded problem**. "
   ]
  },
  {
   "cell_type": "markdown",
   "metadata": {},
   "source": [
    "## Adding material constraints\n",
    "\n",
    "Suppose that A and B both require a material input M: A requires 7 units of M / widget. B requires 11 units of M / widget. Furthermore, there is a limited supply of material M: 77 units. This leads to the following material constraint:\n",
    "\n",
    "$$\n",
    "7 x + 11 y \\leq 77\n",
    "$$"
   ]
  },
  {
   "cell_type": "code",
   "execution_count": null,
   "metadata": {
    "scrolled": false
   },
   "outputs": [],
   "source": [
    "contour(x,y,(x,y)->f(x,y),nlevels=10, c=:heat, linewidth=10, colorbar = false, contour_labels = true)\n",
    "title!(\"Material constraint\")\n",
    "xaxis!(\"x=Widget A\")\n",
    "yaxis!(\"y=Widget B\")\n",
    "xticks!(0:maximum(x))\n",
    "yticks!(0:maximum(y))\n",
    "areaplot!(x[x.<=11], (77 .- 7*x[x.<=11])./11, legend=false, opacity=0.5)\n",
    "scatter!([11],[0])"
   ]
  },
  {
   "cell_type": "markdown",
   "metadata": {},
   "source": [
    "The best we can do in this case--seen above:\n",
    "- 11 widgets of A\n",
    "- 0 widgets of B\n",
    "\n",
    "Using the objective function ($150 x + 175 y$), we can calculate the resulting revenue:"
   ]
  },
  {
   "cell_type": "code",
   "execution_count": null,
   "metadata": {
    "scrolled": false
   },
   "outputs": [],
   "source": [
    "@show f(11,0);"
   ]
  },
  {
   "cell_type": "markdown",
   "metadata": {},
   "source": [
    "## Adding capacity constraints\n",
    "\n",
    "Now, suppose we have a capacity limit on how much of widget A we can produce in our factory: we are limited to produce 8 units of A. This results in a capacity constraint:\n",
    "\n",
    "$$\n",
    "x \\leq 8\n",
    "$$"
   ]
  },
  {
   "cell_type": "code",
   "execution_count": null,
   "metadata": {
    "scrolled": false
   },
   "outputs": [],
   "source": [
    "contour(x,y,(x,y)->f(x,y),nlevels=10, c=:heat, linewidth=10, colorbar = false, contour_labels = true)\n",
    "title!(\"Material and capacity constraints\")\n",
    "xaxis!(\"x=Widget A\")\n",
    "yaxis!(\"y=Widget B\")\n",
    "xticks!(0:maximum(x))\n",
    "yticks!(0:maximum(y))\n",
    "areaplot!(x[x.<=11], (77 .- 7*x[x.<=11])./11, legend=false, opacity=0.5)\n",
    "areaplot!(x[x.<=8], repeat([maximum(y)],length(x[x.<=8])), legend=false, opacity=0.5)\n",
    "scatter!([8],[(77 - 7*8)/11])"
   ]
  },
  {
   "cell_type": "markdown",
   "metadata": {},
   "source": [
    "The best we can do in this case--seen above:\n",
    "- 8 widgets of A\n",
    "- 1.9 widgets of B\n",
    "\n",
    "This will result in revenue:"
   ]
  },
  {
   "cell_type": "code",
   "execution_count": null,
   "metadata": {},
   "outputs": [],
   "source": [
    "f(11,(77 - 7*8)/11)"
   ]
  },
  {
   "cell_type": "markdown",
   "metadata": {},
   "source": [
    "## Time constraints\n",
    "\n",
    "Now let us imagine that we are optimizing factory production for a week, and A and B require different amounts of time to produce. A requires 10 hours / widget. B requires 8 hours / widget. Furthermore, the \"supply\" of time is limited to 80 hours / week. This leads to the following time constraint:\n",
    "\n",
    "$$\n",
    "10 x + 8 y \\leq 80\n",
    "$$"
   ]
  },
  {
   "cell_type": "code",
   "execution_count": null,
   "metadata": {
    "scrolled": false
   },
   "outputs": [],
   "source": [
    "contour(x,y,(x,y)->f(x,y),nlevels=10, c=:heat, linewidth=10, colorbar = false, contour_labels = true)\n",
    "title!(\"Material, capacity and time constraints\")\n",
    "xaxis!(\"x=Widget A\")\n",
    "yaxis!(\"y=Widget B\")\n",
    "xticks!(0:maximum(x))\n",
    "yticks!(0:maximum(y))\n",
    "areaplot!(x[x.<=11], (77 .- 7*x[x.<=11])./11, legend=false, opacity=0.5)\n",
    "areaplot!(x[x.<=8], (80 .- 10*x[x.<=8])./8, legend=false, opacity=0.5)\n",
    "areaplot!(x[x.<=8], repeat([maximum(y)],length(x[x.<=8])), legend=false, opacity=0.5)"
   ]
  },
  {
   "cell_type": "markdown",
   "metadata": {},
   "source": [
    "## Feasible region\n",
    "\n",
    "We can now see that the **feasible region**, or *the area that simultaneously satisfies all constraints*, falls within the polygon bounded by the points (0,7), (8,0) and the point at the intersection of the time constraint ($10 x + 8 y \\leq 80$) and materials constraint ($7 x + 11 y \\leq 77$).\n",
    "\n",
    "What about the capacity constraint on A ($x\\leq8$)? We can see that this constraint is a **redundant constraint** and not relevant to finding the solution, because it is automatically satisfied given the new time constraint, as the maximum value that can be taken by x given the time constraint $10 x + 8 y \\leq 80$ is $x=80/10=8$ when $y=0$. \n",
    "\n",
    "Additionally, given that the feasible region is a convex polygon, it is provable that the maximum value must occur at one of the **extreme points** or vertices defined by the intersection of various constraints that define the feasible region. This fact will form the basis of an efficient computational solution method for **linear programming** (LP) problems -- or convex optimization problems consisting entire of linear constraints and a linear objective function -- to be described in future notebooks."
   ]
  },
  {
   "cell_type": "code",
   "execution_count": null,
   "metadata": {},
   "outputs": [],
   "source": [
    "contour(x,y,(x,y)->f(x,y),nlevels=10, c=:heat, linewidth=10, colorbar = false, contour_labels = true)\n",
    "title!(\"Feasible region and extreme points\")\n",
    "xaxis!(\"x=Widget A\")\n",
    "yaxis!(\"y=Widget B\")\n",
    "xticks!(0:maximum(x))\n",
    "yticks!(0:maximum(y))\n",
    "areaplot!(x[x.<=11], (77 .- 7*x[x.<=11])./11, legend=false, opacity=0.3)\n",
    "areaplot!(x[x.<=8], (80 .- 10*x[x.<=8])./8, legend=false, opacity=0.3)\n",
    "areaplot!(x[x.<=8], repeat([maximum(y)],length(x[x.<=8])), legend=false, opacity=0.15)\n",
    "areaplot!([8;0;4.888], [0;7;3.888], legend=false, opacity=1.0)\n",
    "scatter!([8 0 4.88],[0 7 3.888])"
   ]
  },
  {
   "cell_type": "markdown",
   "metadata": {},
   "source": [
    "## Optimal solution\n",
    "\n",
    "In this case, the **optimal solution** or the point $(x^{*}, y^{*})$ which maximizes our objective function occurs at the intersection of the material and time constraints, given by solving the simple linear system:\n",
    "\n",
    "$$\n",
    "\\begin{align}\n",
    "10 x + 8 y = & \\ 80 \\\\\n",
    "7 x + 11 y = & \\ 77\n",
    "\\end{align}\n",
    "$$\n",
    "\n",
    "Since we have two equations and two unknowns (decision variables x and y), we can solve this system of equations using linear algebra. \n",
    "\n",
    "First, we reformulate the above equations in matrix format as:\n",
    "\n",
    "$$\n",
    "\\begin{align}\n",
    "\\begin{bmatrix}\n",
    "10 & 8\\\\\n",
    "7 & 11\n",
    "\\end{bmatrix} \n",
    "\\begin{bmatrix}\n",
    "x\\\\\n",
    "y\n",
    "\\end{bmatrix}\n",
    "=\n",
    "\\begin{bmatrix}\n",
    "80\\\\\n",
    "77\n",
    "\\end{bmatrix}\n",
    "\\end{align}\n",
    "$$\n",
    "\n",
    "Thus, we can find the vector $[x,y]^\\mathbf{T}$ by taking the inverse of the coefficient matrix $\\mathbf{A}$ times the right hand side matrix ($\\mathbf{b}$) \n",
    "$$\n",
    "\\begin{align}\n",
    "\\begin{bmatrix}\n",
    "x\\\\\n",
    "y\n",
    "\\end{bmatrix}\n",
    "=\n",
    "\\begin{bmatrix}\n",
    "10 & 8\\\\\n",
    "7 & 11\n",
    "\\end{bmatrix}^{-1} \n",
    "\\begin{bmatrix}\n",
    "80\\\\\n",
    "77\n",
    "\\end{bmatrix}\n",
    "\\end{align}\n",
    "$$"
   ]
  },
  {
   "cell_type": "code",
   "execution_count": null,
   "metadata": {},
   "outputs": [],
   "source": [
    "sol = [10 8; 7 11]\\[80;77]"
   ]
  },
  {
   "cell_type": "markdown",
   "metadata": {},
   "source": [
    "Using the optimal values $x^*=4.8889$ and $y^*=3.8889$, we can calculate the optimal revenue:"
   ]
  },
  {
   "cell_type": "code",
   "execution_count": null,
   "metadata": {},
   "outputs": [],
   "source": [
    "f(sol[1],sol[2])"
   ]
  },
  {
   "cell_type": "code",
   "execution_count": null,
   "metadata": {
    "scrolled": false
   },
   "outputs": [],
   "source": [
    "contour(x,y,(x,y)->f(x,y),nlevels=10, c=:heat, linewidth=10, colorbar = false, contour_labels = true)\n",
    "title!(\"Optimal solution with continuous decision variables (LP)\")\n",
    "xaxis!(\"x=Widget A\")\n",
    "yaxis!(\"y=Widget B\")\n",
    "xticks!(0:maximum(x))\n",
    "yticks!(0:maximum(y))\n",
    "areaplot!(x[x.<=11], (77 .- 7*x[x.<=11])./11, legend=false, opacity=0.3)\n",
    "areaplot!(x[x.<=8], (80 .- 10*x[x.<=8])./8, legend=false, opacity=0.3)\n",
    "areaplot!(x[x.<=8], repeat([maximum(y)],length(x[x.<=8])), legend=false, opacity=0.15)\n",
    "areaplot!([8;0;4.888], [0;7;3.888], legend=false, opacity=1.0)\n",
    "scatter!([4.88], [3.888])"
   ]
  },
  {
   "cell_type": "markdown",
   "metadata": {},
   "source": [
    "## Binding and nonbinding constraints\n",
    "\n",
    "What happened to the capacity constraint on A ($x\\leq8$)? \n",
    "\n",
    "We can see that the constraint is satified at the optimal solution ($x^{*}=4.889$). As we discussed above, the capacity constraint was redundant given the addition of the time constraint. But we can also see that at this optimal solution, the constraint is not satisfied at equality&mdash;that is $x^{*}$ is strictly $<8$. We thus say the capacity constraint on widget A is **non-binding**.\n",
    "\n",
    "In contrast, both the time and material constraints are **binding**&mdash;that is, at the optimal solution $x^*=4.8889$ and $y^*=3.8889$, both constraints are satisfied at equality:\n",
    "\n",
    "$$\n",
    "\\begin{align}\n",
    "10 x^{*} + 8 y^{*} = & \\ 80 \\\\\n",
    "7 x^{*} + 11 y^{*} = & \\ 77\n",
    "\\end{align}\n",
    "$$"
   ]
  },
  {
   "cell_type": "markdown",
   "metadata": {},
   "source": [
    "## Discrete variables\n",
    "\n",
    "Finally, we now consider that we can only produce and sell whole numbers of widgets. (There is no market for half of an A.) In this example, we make the (perhaps unreasonable) assumption that we cannot carry over some partially produced widget to the next week. Our latest solution with all the constraints results in the following non-integer (continuous) solution:\n",
    "- 4.889 units of A\n",
    "- 3.889 units of B\n",
    "\n",
    "If we further require that $x$ and $y$ must be integers, we have a **discrete** set of decision variables, and the problem becomes more complicated. (In this case, we have in fact a **mixed-integer linear program**, because we have discrete decision variables, and all are related by linear constraints and a linear objective.)\n",
    "\n",
    "The final mixed-integer linear optimization problem can be described as:\n",
    "\n",
    "$$\n",
    "\\begin{align}\n",
    "\\max \\ & 150 x + 175 y \\\\\n",
    "\\text{s.t.} & \\\\\n",
    "& 10 x + 8 y \\leq \\ 80 \\\\\n",
    "& 7 x + 11 y \\leq \\ 77 \\\\\n",
    "& x \\leq 8 \\\\\n",
    "& x \\geq 0 \\\\\n",
    "& y \\geq 0 \\\\\n",
    "& \\text{x, y integer}\n",
    "\\end{align}\n",
    "$$\n",
    "\n",
    "The solution is given by:\n",
    "- 3 units of A\n",
    "- 5 units of B\n",
    "\n",
    "With revenue:"
   ]
  },
  {
   "cell_type": "code",
   "execution_count": null,
   "metadata": {},
   "outputs": [],
   "source": [
    "f(3,5)"
   ]
  },
  {
   "cell_type": "code",
   "execution_count": null,
   "metadata": {
    "scrolled": false
   },
   "outputs": [],
   "source": [
    "contour(x,y,(x,y)->f(x,y),nlevels=10, c=:heat, linewidth=10, colorbar = false, contour_labels = true)\n",
    "title!(\"Optimal solution with discrete decision variables (MILP)\")\n",
    "xaxis!(\"x=Widget A\")\n",
    "yaxis!(\"y=Widget B\")\n",
    "xticks!(0:maximum(x))\n",
    "yticks!(0:maximum(y))\n",
    "areaplot!(x[x.<=11], (77 .- 7*x[x.<=11])./11, legend=false, opacity=0.3)\n",
    "areaplot!(x[x.<=8], (80 .- 10*x[x.<=8])./8, legend=false, opacity=0.3)\n",
    "areaplot!(x[x.<=8], repeat([maximum(y)],length(x[x.<=8])), legend=false, opacity=0.15)\n",
    "#areaplot!([8;0;4.888], [0;7;3.888], legend=false, opacity=1.0)\n",
    "# display feasible discrete points\n",
    "scatter!([repeat([0],8)],[0:7], markerstrokewidth=0,markersize=3, markercolor=\"blue\")\n",
    "scatter!([repeat([1],7)],[0:6], markerstrokewidth=0,markersize=3, markercolor=\"blue\")\n",
    "scatter!([repeat([2],6)],[0:5], markerstrokewidth=0,markersize=3, markercolor=\"blue\")\n",
    "scatter!([repeat([3],6)],[0:5], markerstrokewidth=0,markersize=3, markercolor=\"blue\")\n",
    "scatter!([repeat([4],5)],[0:4], markerstrokewidth=0,markersize=3, markercolor=\"blue\")\n",
    "scatter!([repeat([5],4)],[0:3], markerstrokewidth=0,markersize=3, markercolor=\"blue\")\n",
    "scatter!([repeat([6],3)],[0:2], markerstrokewidth=0,markersize=3, markercolor=\"blue\")\n",
    "scatter!([repeat([7],2)],[0:1], markerstrokewidth=0,markersize=3, markercolor=\"blue\")\n",
    "scatter!([8,],[0], markerstrokewidth=0,markersize=3, markercolor=\"blue\")\n",
    "# optimal solution\n",
    "scatter!([3], [5], markercolor=\"red\")"
   ]
  },
  {
   "cell_type": "markdown",
   "metadata": {},
   "source": [
    "We can see that the optimal solution with discrete decision variables still lies within the feasible region defined by the constraints, but it is not at an extreme point (as was the case when decision variables could take on continuous values). \n",
    "\n",
    "It is provable that the optimal solution to an MILP lies at an integer point within the polygon defined by the extreme points of the continuous problem (or the **convex hull** of the continuous problem), and that the discrete solution will only occur at an extreme point when the optimal extreme point happens to be an integer point. \n",
    "\n",
    "For this reason, we can say that the continuous solution is an approximation of the discrete solution when certain decision variables are restricted to discrete (or integer) values. In fact, the optimal solution to an LP (maximization) with the same constraint set can be used as an **upper bound** for the optimal MILP solution, such that the optimal MILP solution is always $\\leq$ the optimal LP solution, and will only be strictly equal when the LP solution occurs at a value that satisfies all integrality constraints (e.g. all discrete decisions are equal to integer values).\n",
    "\n",
    "We will discuss solution methods for mixed-integer linear programs in a future notebook, but they leverage this ability to use a simpler linear program (or **linear relaxation** of the MILP problem) as an upper bound approximation of the discrete MILP solution. A linear relaxation of an MILP problem retains the same set of constraints and objective, but “relaxes” the requirement that certain variables take discrete values to allow for continuous variables, making the problem an LP."
   ]
  },
  {
   "cell_type": "code",
   "execution_count": null,
   "metadata": {},
   "outputs": [],
   "source": [
    "contour(x,y,(x,y)->f(x,y),nlevels=10, c=:heat, linewidth=10, colorbar = false, contour_labels = true)\n",
    "title!(\"LP Solution as Upper Bound for MILP Solution\")\n",
    "xaxis!(\"x=Widget A\")\n",
    "yaxis!(\"y=Widget B\")\n",
    "xticks!(0:maximum(x))\n",
    "yticks!(0:maximum(y))\n",
    "areaplot!(x[x.<=11], (77 .- 7*x[x.<=11])./11, legend=false, opacity=0.3)\n",
    "areaplot!(x[x.<=8], (80 .- 10*x[x.<=8])./8, legend=false, opacity=0.3)\n",
    "areaplot!(x[x.<=8], repeat([maximum(y)],length(x[x.<=8])), legend=false, opacity=0.15)\n",
    "# LP feasible region\n",
    "areaplot!([8;0;4.888], [0;7;3.888], legend=false, opacity=1.0)\n",
    "# display feasible discrete points\n",
    "scatter!([repeat([0],8)],[0:7], markerstrokewidth=0,markersize=3, markercolor=\"blue\")\n",
    "scatter!([repeat([1],7)],[0:6], markerstrokewidth=0,markersize=3, markercolor=\"blue\")\n",
    "scatter!([repeat([2],6)],[0:5], markerstrokewidth=0,markersize=3, markercolor=\"blue\")\n",
    "scatter!([repeat([3],6)],[0:5], markerstrokewidth=0,markersize=3, markercolor=\"blue\")\n",
    "scatter!([repeat([4],5)],[0:4], markerstrokewidth=0,markersize=3, markercolor=\"blue\")\n",
    "scatter!([repeat([5],4)],[0:3], markerstrokewidth=0,markersize=3, markercolor=\"blue\")\n",
    "scatter!([repeat([6],3)],[0:2], markerstrokewidth=0,markersize=3, markercolor=\"blue\")\n",
    "scatter!([repeat([7],2)],[0:1], markerstrokewidth=0,markersize=3, markercolor=\"blue\")\n",
    "scatter!([8,],[0], markerstrokewidth=0,markersize=3, markercolor=\"blue\")\n",
    "# Optimal discrete solution\n",
    "scatter!([3], [5], markercolor=\"red\")\n",
    "# Optimal LP solution\n",
    "scatter!([4.88], [3.888], markercolor=\"teal\")\n",
    "lp_optimal(x) = (1413.8889-150x)/175\n",
    "milp_optimal(x) = (1325-150x)/175\n",
    "plot!(lp_optimal,0,9.65, color=\"teal\", linestyle=:dash)\n",
    "plot!(milp_optimal,0,9, color=\"red\", linestyle=:dash)"
   ]
  },
  {
   "cell_type": "markdown",
   "metadata": {},
   "source": [
    "## Why optimization?\n",
    "\n",
    "Optimization problems are a useful mathematical approach to understand many practical, real-world challenges in which we want to know the \"best\" way to do something, where \"best\" can be clearly defined algebraically to be either maximized or minimized, and where we face a finite set of decisions and constraints limitating the feasible set of decisions one can take."
   ]
  },
  {
   "cell_type": "markdown",
   "metadata": {},
   "source": [
    "Examples of optimization problems abound. Here's a partial list of practical, real-world examples across many domains (many of these are adapted from [here](https://www.solver.com/examples-optimization-problems)):\n",
    "\n",
    "**Engineering**\n",
    "- Design an aircraft wing design deciding on length and materials section to meet weight restrictions and strength requirements and to *maximize* flight distance given a limited fuel load\n",
    "- Decide on the diameter, material, and number and configuration of pipes in a counterflow heat exchanger to *maximize* heat transfer rate given limited volumetric dimensions\n",
    "- Design traffic signal timing to *minimize* average vehicle delay at a series of intersections along a traffic corridor or across a grid of urban streets\n",
    "- Select the optimal hub height, rotor diameter, and placement of wind turbines in a wind farm to *maximize* expected revenue at a specific site given several scenarios for projected electricity price and wind speed time series\n",
    "\n",
    "**Corporate Finance**\n",
    "\n",
    "- Working Capital Management: Invest in 1-month, 3-month, and 6-month CDs to *maximize* interest while meeting cash requirements\n",
    "- Capital Budgeting:  Choose a combination of capital projects to *maximize* overall  NPV (Net Present Value)\n",
    "- Cash Management:  Determine where to locate lockboxes to *minimize* the \"float\" or interest lost to due mailing delays\n",
    "- Capacity Planning:  Determine which plants should be opened or closed at which locations to *maximize* profit and meet demand for products\n",
    " \n",
    "**Investments**\n",
    " \n",
    "- Portfolio Optimization - Markowitz Model:  Allocate limited funds to stocks to *minimize* risk for a target rate of return - with known or computed variances and covariances\n",
    "- Stock Portfolio Management:  optimize a limited budget across several possible scenarios to *minimize* risk at different target rates of return\n",
    "- Portfolio Optimization - Sharpe Model (CAPM):  Calculate alphas and betas for stocks relative to a market index, then uses these to find an efficient portfolio given limited budget that *maximizes* expected return over a given time frame\n",
    " \n",
    "**Production**\n",
    "\n",
    "- Product Mix:  Determine how many products of each type to assemble from certain parts to *maximize* profits while not exceeding available parts inventory\n",
    "- Machine Allocation:  Allocate production of a product to different machines, with different capacities, startup cost and operating cost, to meet production target at *minimum* cost\n",
    "- Blending:  Determine which raw materials from different sources to blend to produce a substance with certain desired qualities at *minimum* cost\n",
    "- Process Selection - Decide which of several processes (with different speeds, costs, etc.) should be used to make a desired quantity of product in a certain amount of time, at *minimum* cost\n",
    "- Cutting Stock:  Determine how to cut larger pieces of wood, steel, etc. into smaller pieces of desired sizes, each needed in certain quantities, to *minimize* waste\n",
    " \n",
    "**Distribution**\n",
    "\n",
    "- Transportation Model:  Determine how many products to ship from each factory to each warehouse, or from each factory to each warehouse and direct to each end customer, to *minimize* shipping cost while meeting warehouse demands and not exceeding factory supplies\n",
    "- Multi-Level, Multi-Commodity Transportation Model:  Determine how many products of several different types to ship from each factory to each warehouse and each customer, to *minimize* total shipping cost while meeting demands and not exceeding capacities and supplies\n",
    "- Partial Loading - Decide which sizes or types of products to load into a vehicle, given its size limits, to best meet demand or to *minimize* wasted space\n",
    "- Facility Location:  Determine which (if any) plants to close to *minimize* total costs, including fixed operating costs and shipping costs between facilities\n",
    "- Production / Transportation Model:  Determine how many products to produce in each factory and ship to warehouses and customers, to *minimize* overall costs while meeting demands, warehouse capacities and factory supplies\n",
    "- Delivery Routing: Plan routes to deliver all scheduled packages and *minimize* cost of fuel, labor, and vehicle wear and tear across a fleet of delivery vehicles\n",
    " \n",
    "**Purchasing**\n",
    "\n",
    "- Contract Awards - Award contracts to suppliers who have bid certain prices to supply products to facilities in several states to meet needed output at *minimum* cost\n",
    "- Inventory Stocking/Reordering:  Plan inventory stocking and reordering policies to meet expected demand and *maximize* profit without exceeding available warehouse space\n",
    "- Media Planning - Decide how much advertising to purchase in different media to *minimize* total cost while achieving a target level of reach or frequency\n",
    "- Purchasing / Transportation Model:  Determine how much to purchase from different suppliers at specified prices, to be shipped from their locations to various plants, to *minimize* total costs including purchase and shipping costs\n",
    " \n",
    "**Human Resources**\n",
    "\n",
    "- Crew Scheduling:  Assign crews to different airline flight segments to *minimize* total cost while ensuring that a crew \"rotation\" begins and ends in the same city\n",
    "- Office Assignment:  Assign employees to available offices to *maximize* satisfaction of employee preferences\n",
    "- Employee Scheduling:  Schedule employees for weekly \"shifts\" (five works days plus two consecutive days off) to *minimize* payroll costs while meeting varying demand for each day of the week, optionally taking into account employee seniority and preferences\n",
    "- Workforce Composition: Decide how many employees to retrain, hire and fire to meet changing workforce composition requirements while *minimizing* costs or employee turnover\n",
    "- Workforce Movement:  Decide how many troops to move from several camps to several other bases, to *minimize* movement time or total cost\n",
    " \n",
    "***Examples by Industry***\n",
    " \n",
    "**Airlines and Trucking**\n",
    " \n",
    "- Crew Scheduling:  Given a flight schedule, aircraft assignments, and restrictions on duty periods, allocate crews most effectively to flights to *maximize* revenue or *minimize* cost to meet specified demand\n",
    "- Fleet Routing and Assignment:  Determine which aircraft to fly on each route, and the sequence of segments flown by each aircraft to *maximize* revenue or *minimize* cost to meet specified demand\n",
    "- Revenue Management:  For different classes of tickets, determine how many seats to sell or hold back as flight date approaches to *maximize* total revenue on scheduled flights\n",
    " \n",
    "**Oil and Gas**\n",
    " \n",
    "- Gasoline Blending: From hydrocarbons with specific octane ratings, vapor pressure, volatility and cost, determine how much of each should be blended together to produce regular, midgrade, and premium gasoline and *maximize* revenue\n",
    "- Gas Contract Purchase:  With forecasted but uncertain demand for gas, determine which contracts to buy, and how much gas to store at different times to *maximize* expected revenue\n",
    "- Pipeline Capacity Auction:  Determine which bids, at different prices, should be awarded to *maximize* sales revenue while not exceeding daily pipeline capacity\n",
    " \n",
    "**Lumber, Paper and Steel**\n",
    " \n",
    "- Cutting Stock Problems:  Given large wood / paper sheets or steel slabs / bars, and demand for units of smaller lengths/widths, determine the cutting pattern of large into small pieces that meets demand while *minimizing* waste or *maximizing* total revenue given different prices for different dimenions of cut product\n",
    " \n",
    "**Agriculture**\n",
    "\n",
    "- Crop Planning:  Given forecasted crop prices and growing conditions, determine how much of each crop to plant to *maximize* expected revenue\n",
    "- Feed Blending:  Given the nutritional requirements for feed animals and the price of available feeds, find the blend of feed ingredients that will *minimize* total cost\n",
    " \n",
    "**Financial Services**\n",
    "\n",
    "- Efficient Portfolios:  Given forecasts of stock, bond or asset class returns, variances and covariances, allocate funds to investments to *minimize* portfolio risk for a given rate of return\n",
    "- Index Fund Management:  Solve a portfolio optimization problem that *minimizes* \"tracking error\" for a fund mirroring an index composed of thousands of securities\n",
    "- Asset/Liability Management:  Allocate funds to various investments to *maximize* portfolio return while ensuring that periodic liabilities are fully funded\n",
    " \n",
    "As you can see, optimization problems are all around us, and learning how to formulate optimization problems, code algebraic models to represent these problems, and use off-the-shelf 'solvers' to find optimal solutions is a useful skill set!\n",
    "\n",
    "Any time you need to *maximize* or *minimize* a given objective while making a finite set of decisions subject to a finite set of constraints, you're facing an optimization problem. Or, whenever facing a problem that can be described algebraically as:\n",
    "\n",
    "$$\n",
    "\\begin{align}\n",
    "\\min f(x) &\\text{ or }\\max f(x)\\\\\n",
    "\\text{subject to:}&\\\\\n",
    "g_j(x) &\\geq a_j \\quad \\forall j \\in M\\\\\n",
    "h_k(x) & = b_k \\quad \\forall k \\in N\\\\\n",
    "\\end{align}\n",
    "$$"
   ]
  },
  {
   "cell_type": "markdown",
   "metadata": {},
   "source": [
    "## Electricity sector problems\n",
    "\n",
    "In this course, we will focus on a set of 'canonical' optimization problems encountered in the electricity sector, as examples of the kind of optimization problems encountered in energy systems engineering and electric power systems.\n",
    "\n",
    "Those problems include:\n",
    "\n",
    "1. **Capacity expansion planning** (simplified): Decide the mix of investments in different available electricity generation resources to meet all levels of expected demand over the course of a year and *minimize* total cost including capital investment cost, fixed operations and maintenance costs, variable operation and maintenance costs, and fuel costs\n",
    "\n",
    "\n",
    "2. **Economic dispatch**: Decide how to dispatch a fleet of power plants (and energy storage devices) to meet electricity demand in every time period (e.g. hour or five min period) and *minimize* total cost or electricity production, subject to engineering related inter-temporal constraints on power plants or energy storage devices (e.g. hourly changes in power output, storage state of charge limits)\n",
    "\n",
    "\n",
    "3. **Unit commitment**: Decide which thermal power plants to turn on ('commit') or off ('shut down') and how to operate them over the next 24 hours to meet expected electricity demand and *minimize* total cost of electricity production (including start-up related fuel use and maintenance) subject to engineering related constraints (e.g. minimum stable output levels of commited units, minimum time between start-up and shut-down) and reliability constraints (e.g., reserve requirements)\n",
    "\n",
    "\n",
    "4. **Optimal power flow**: Determine how to dispatch a fleet of power plants (and energy storage devices) to meet electricity demand in every time period (e.g. hour or five min period) and at every location across an electricity transmission network to *minimize* total cost of electricity production, subject to engineering related constraints on power plant or energy storage devices and network power flows (e.g. Kirchhoff's circuit laws)\n",
    "\n",
    "\n",
    "5. **Capacity expansion planning** (detailed): Decide the mix of investments in different available electricity generation resources and transmission network expansion and commitment and dispatch of generators and storage to meet all levels of expected demand over the course of a year and *minimize* total cost subject to inter-temporal constraints on generator and storage dispatch, unit commitment constraints, and network power flow constraints"
   ]
  },
  {
   "cell_type": "markdown",
   "metadata": {},
   "source": [
    "## Types of optimization problems\n",
    "\n",
    "In this course, we will focus primarily on two particular types or classes of optimization problems known as **[linear programming](https://en.wikipedia.org/wiki/Linear_programming)** problems (LPs) and **[mixed integer linear programming](https://en.wikipedia.org/wiki/Linear_programming#Integer_unknowns)** problems (MILPs). We actually saw examples of both types of problems already above in the simple Factory example."
   ]
  },
  {
   "cell_type": "markdown",
   "metadata": {},
   "source": [
    "\n",
    "***Linear programming*** problems seek to maximize or minimize a linear cost or 'objective' function:\n",
    "\n",
    "$\\sum_{i=1}^n c_i x_i$ \n",
    "\n",
    "(or in vector notation, $\\mathbf{c}'\\mathbf{x}$)\n",
    "\n",
    "subject to a set of linear constraints of the form: \n",
    "\n",
    "$$\n",
    "\\begin{align}\n",
    "\\sum_{i=1}^n a_{i,j} x_i &\\leq b_j\\\\\n",
    "\\sum_{i=1}^n a_{i,j} x_i &\\geq b_j \\quad \\text{or}\\\\\n",
    "\\sum_{i=1}^n a_{i,j} x_i &= b_j\\\\\n",
    "\\end{align}\n",
    "$$\n",
    "\n",
    "Or, in vector notation:\n",
    "\n",
    "$$\n",
    "\\begin{align}\n",
    "\\mathbf{a_j}'\\mathbf{x} & \\leq b_j\\\\\n",
    "\\mathbf{a_j}'\\mathbf{x} & \\geq b_j\\\\\n",
    "\\mathbf{a_j}'\\mathbf{x} & = b_j\\\\\n",
    "\\end{align}\n",
    "$$\n",
    "\n",
    "and where $x_i \\in \\mathbf{R}$ or where all decision variables are continuous, real number values.\n",
    "\n",
    "We may additionally constrain certain variables to be $\\geq$ or $\\leq0$&mdash;non-negativity or negativity constraints&mdash;to reflect certain physical realities (that we can't produce negative widgets, for example). Note that non-negativity constraints can be treated as a special example of generalized inequality constraints of the form $\\sum_{i=1}^n a_{i} x_i \\geq b$ described above where $b=0$ and where coefficients $a_{i} = 0$ for all but the specific $x_i$ variable for which the non-negativity or negativity constraint applies. (Negativity constraints can be achieved by reversing the sign of the inequality.)\n"
   ]
  },
  {
   "cell_type": "markdown",
   "metadata": {},
   "source": [
    "\n",
    "***Mixed integer linear programming*** problems seek to maximize or minimize a linear cost or 'objective' function subject to linear constraints but where decisions variables include a mix of both continuous decisions ($x_i \\in \\mathbf{R}$) *and* discrete (integer or binary) values ($y_i \\in \\mathbf{Z}$).\n",
    "\n",
    "The Factory Example earlier in this notebook provided examples of both LP and MILP problems.\n"
   ]
  },
  {
   "cell_type": "markdown",
   "metadata": {},
   "source": [
    "**Other types of optimization problems**:\n",
    "\n",
    "There are [many other types of optimization problems](https://neos-guide.org/content/optimization-tree-alphabetical), each with a unique mathematical structure that lends itself to different computational solution methods, including:\n",
    "\n",
    "- *Quadratic programming* problems (QP) which combine a quadratic objective function and linear constraints.\n",
    "- *Quadratically constrained quadratic programming* problems (QCQP) which combine a quadratic objective function and quadratic constraints.\n",
    "- *Second order conic programming* problems (SOCP) in which a linear objective function is minimized over the intersection of an affine (linear) set and the product of quadratic or 'second-order' cones.\n",
    "- *Semidefinite programming* (SDP) problems in which a linear objective function is minimized subject to a linear matrix inequality\n",
    "\n",
    "And many others...\n",
    "\n",
    "Note that all of the above are **[convex optimization problems](https://en.wikipedia.org/wiki/Convex_optimization)** in which a convex objective function is minimized or maximized subject to a set of [convex](https://en.wikipedia.org/wiki/Convex_polygon) constraints and continuous decision variables. It is provable that *convex optimization problems have a unique global solution*, and each convex class of problems above (along with LP problems) has well developed, specialized solution algorithms to find the optimal solution in finite, albeit [polynomial time](https://en.wikipedia.org/wiki/Time_complexity#:~:text=great%20practical%20importance.-,Polynomial%20time,for%20some%20positive%20constant%20k). In practice, we may wait for an algorithm to terminate on the optimal solution (e.g., linear programs), or we may be quite happy with near-optimal solutions defined by a small solution tolerance."
   ]
  },
  {
   "cell_type": "code",
   "execution_count": null,
   "metadata": {},
   "outputs": [],
   "source": [
    "convexfn(d) = 3* (d-10)^2 + 20\n",
    "plot(convexfn, 0:20, legend=false,)\n",
    "title!(\"A Convex Function with a Global Minimum\")\n",
    "scatter!([10], [20])"
   ]
  },
  {
   "cell_type": "markdown",
   "metadata": {},
   "source": [
    "**Non-convex optimization problems** have either a [non-convex](https://en.wikipedia.org/wiki/Concave_polygon) objective function or non-convex constraints, which can result in many local maxima or minima (think of the valleys or peaks of different heights as you traverse a mountain range). A variety of computational methods exist to find one or more local optima to non-convex problems, but short of an exhaustive search, it is generally not possible to guarantee that any of the local optima are the maximum or minimum possible values that could be obtained across the entire feasible region (the global optimum), making these problems more difficult to tackle computationally than convex problems. "
   ]
  },
  {
   "cell_type": "code",
   "execution_count": null,
   "metadata": {},
   "outputs": [],
   "source": [
    "nonconvex(d) = -7.65 * sind(d) + 9.87 * sind(2d + 206) + 20\n",
    "plot(nonconvex, 1:365, legend=false,)\n",
    "title!(\"A Non-Convex Function with Multiple Local Minima\")\n",
    "scatter!([200], [13.6])\n",
    "scatter!([40], [5.6])"
   ]
  },
  {
   "cell_type": "markdown",
   "metadata": {},
   "source": [
    "**Note: The remainder of this course will focus on linear and mixed integer linear problems.**"
   ]
  }
 ],
 "metadata": {
  "@webio": {
   "lastCommId": null,
   "lastKernelId": null
  },
  "kernelspec": {
   "display_name": "Julia 1.5.3",
   "language": "julia",
   "name": "julia-1.5"
  },
  "language_info": {
   "file_extension": ".jl",
   "mimetype": "application/julia",
   "name": "julia",
   "version": "1.5.3"
  }
 },
 "nbformat": 4,
 "nbformat_minor": 2
}
